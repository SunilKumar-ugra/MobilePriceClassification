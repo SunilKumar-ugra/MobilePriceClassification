{
 "cells": [
  {
   "cell_type": "code",
   "execution_count": 1,
   "id": "cf90975a",
   "metadata": {
    "_cell_guid": "b1076dfc-b9ad-4769-8c92-a6c4dae69d19",
    "_uuid": "8f2839f25d086af736a60e9eeb907d3b93b6e0e5",
    "execution": {
     "iopub.execute_input": "2024-05-28T11:55:09.283635Z",
     "iopub.status.busy": "2024-05-28T11:55:09.282313Z",
     "iopub.status.idle": "2024-05-28T11:55:10.445814Z",
     "shell.execute_reply": "2024-05-28T11:55:10.444347Z"
    },
    "papermill": {
     "duration": 1.18712,
     "end_time": "2024-05-28T11:55:10.448350",
     "exception": false,
     "start_time": "2024-05-28T11:55:09.261230",
     "status": "completed"
    },
    "tags": []
   },
   "outputs": [
    {
     "name": "stdout",
     "output_type": "stream",
     "text": [
      "/kaggle/input/mobile-price-classification/train.csv\n",
      "/kaggle/input/mobile-price-classification/test.csv\n"
     ]
    }
   ],
   "source": [
    "# This Python 3 environment comes with many helpful analytics libraries installed\n",
    "# It is defined by the kaggle/python Docker image: https://github.com/kaggle/docker-python\n",
    "# For example, here's several helpful packages to load\n",
    "\n",
    "import numpy as np # linear algebra\n",
    "import pandas as pd # data processing, CSV file I/O (e.g. pd.read_csv)\n",
    "\n",
    "# Input data files are available in the read-only \"../input/\" directory\n",
    "# For example, running this (by clicking run or pressing Shift+Enter) will list all files under the input directory\n",
    "\n",
    "import os\n",
    "for dirname, _, filenames in os.walk('/kaggle/input'):\n",
    "    for filename in filenames:\n",
    "        print(os.path.join(dirname, filename))\n",
    "\n",
    "# You can write up to 20GB to the current directory (/kaggle/working/) that gets preserved as output when you create a version using \"Save & Run All\" \n",
    "# You can also write temporary files to /kaggle/temp/, but they won't be saved outside of the current session"
   ]
  },
  {
   "cell_type": "markdown",
   "id": "4c786535",
   "metadata": {
    "papermill": {
     "duration": 0.018628,
     "end_time": "2024-05-28T11:55:10.484863",
     "exception": false,
     "start_time": "2024-05-28T11:55:10.466235",
     "status": "completed"
    },
    "tags": []
   },
   "source": [
    "# Import Packages"
   ]
  },
  {
   "cell_type": "code",
   "execution_count": 2,
   "id": "27b255ad",
   "metadata": {
    "execution": {
     "iopub.execute_input": "2024-05-28T11:55:10.522383Z",
     "iopub.status.busy": "2024-05-28T11:55:10.521805Z",
     "iopub.status.idle": "2024-05-28T11:55:12.168921Z",
     "shell.execute_reply": "2024-05-28T11:55:12.167573Z"
    },
    "papermill": {
     "duration": 1.669167,
     "end_time": "2024-05-28T11:55:12.171890",
     "exception": false,
     "start_time": "2024-05-28T11:55:10.502723",
     "status": "completed"
    },
    "tags": []
   },
   "outputs": [],
   "source": [
    "## Data Analysis Phase\n",
    "## MAin aim is to understand more about the data\n",
    "\n",
    "import pandas as pd\n",
    "import numpy as np\n",
    "import matplotlib.pyplot as plt\n",
    "%matplotlib inline\n",
    "import seaborn as sns\n",
    "## Display all the columns of the dataframe\n",
    "\n",
    "pd.pandas.set_option('display.max_columns',None)"
   ]
  },
  {
   "cell_type": "markdown",
   "id": "c1af13a2",
   "metadata": {
    "papermill": {
     "duration": 0.017202,
     "end_time": "2024-05-28T11:55:12.207971",
     "exception": false,
     "start_time": "2024-05-28T11:55:12.190769",
     "status": "completed"
    },
    "tags": []
   },
   "source": [
    "# Read Dataset"
   ]
  },
  {
   "cell_type": "code",
   "execution_count": 3,
   "id": "ee944a8a",
   "metadata": {
    "execution": {
     "iopub.execute_input": "2024-05-28T11:55:12.245256Z",
     "iopub.status.busy": "2024-05-28T11:55:12.244823Z",
     "iopub.status.idle": "2024-05-28T11:55:12.297222Z",
     "shell.execute_reply": "2024-05-28T11:55:12.295870Z"
    },
    "papermill": {
     "duration": 0.074518,
     "end_time": "2024-05-28T11:55:12.300092",
     "exception": false,
     "start_time": "2024-05-28T11:55:12.225574",
     "status": "completed"
    },
    "tags": []
   },
   "outputs": [
    {
     "name": "stdout",
     "output_type": "stream",
     "text": [
      "(2000, 21) (1000, 21)\n"
     ]
    }
   ],
   "source": [
    "train_df=pd.read_csv('/kaggle/input/mobile-price-classification/train.csv')\n",
    "test_df=pd.read_csv('/kaggle/input/mobile-price-classification/test.csv')\n",
    "\n",
    "## print shape of dataset with rows and columns\n",
    "print(train_df.shape,test_df.shape)"
   ]
  },
  {
   "cell_type": "code",
   "execution_count": 4,
   "id": "9654ee41",
   "metadata": {
    "execution": {
     "iopub.execute_input": "2024-05-28T11:55:12.338069Z",
     "iopub.status.busy": "2024-05-28T11:55:12.337699Z",
     "iopub.status.idle": "2024-05-28T11:55:12.371751Z",
     "shell.execute_reply": "2024-05-28T11:55:12.370390Z"
    },
    "papermill": {
     "duration": 0.056883,
     "end_time": "2024-05-28T11:55:12.374632",
     "exception": false,
     "start_time": "2024-05-28T11:55:12.317749",
     "status": "completed"
    },
    "tags": []
   },
   "outputs": [
    {
     "data": {
      "text/html": [
       "<div>\n",
       "<style scoped>\n",
       "    .dataframe tbody tr th:only-of-type {\n",
       "        vertical-align: middle;\n",
       "    }\n",
       "\n",
       "    .dataframe tbody tr th {\n",
       "        vertical-align: top;\n",
       "    }\n",
       "\n",
       "    .dataframe thead th {\n",
       "        text-align: right;\n",
       "    }\n",
       "</style>\n",
       "<table border=\"1\" class=\"dataframe\">\n",
       "  <thead>\n",
       "    <tr style=\"text-align: right;\">\n",
       "      <th></th>\n",
       "      <th>battery_power</th>\n",
       "      <th>blue</th>\n",
       "      <th>clock_speed</th>\n",
       "      <th>dual_sim</th>\n",
       "      <th>fc</th>\n",
       "      <th>four_g</th>\n",
       "      <th>int_memory</th>\n",
       "      <th>m_dep</th>\n",
       "      <th>mobile_wt</th>\n",
       "      <th>n_cores</th>\n",
       "      <th>pc</th>\n",
       "      <th>px_height</th>\n",
       "      <th>px_width</th>\n",
       "      <th>ram</th>\n",
       "      <th>sc_h</th>\n",
       "      <th>sc_w</th>\n",
       "      <th>talk_time</th>\n",
       "      <th>three_g</th>\n",
       "      <th>touch_screen</th>\n",
       "      <th>wifi</th>\n",
       "      <th>price_range</th>\n",
       "    </tr>\n",
       "  </thead>\n",
       "  <tbody>\n",
       "    <tr>\n",
       "      <th>0</th>\n",
       "      <td>842</td>\n",
       "      <td>0</td>\n",
       "      <td>2.2</td>\n",
       "      <td>0</td>\n",
       "      <td>1</td>\n",
       "      <td>0</td>\n",
       "      <td>7</td>\n",
       "      <td>0.6</td>\n",
       "      <td>188</td>\n",
       "      <td>2</td>\n",
       "      <td>2</td>\n",
       "      <td>20</td>\n",
       "      <td>756</td>\n",
       "      <td>2549</td>\n",
       "      <td>9</td>\n",
       "      <td>7</td>\n",
       "      <td>19</td>\n",
       "      <td>0</td>\n",
       "      <td>0</td>\n",
       "      <td>1</td>\n",
       "      <td>1</td>\n",
       "    </tr>\n",
       "    <tr>\n",
       "      <th>1</th>\n",
       "      <td>1021</td>\n",
       "      <td>1</td>\n",
       "      <td>0.5</td>\n",
       "      <td>1</td>\n",
       "      <td>0</td>\n",
       "      <td>1</td>\n",
       "      <td>53</td>\n",
       "      <td>0.7</td>\n",
       "      <td>136</td>\n",
       "      <td>3</td>\n",
       "      <td>6</td>\n",
       "      <td>905</td>\n",
       "      <td>1988</td>\n",
       "      <td>2631</td>\n",
       "      <td>17</td>\n",
       "      <td>3</td>\n",
       "      <td>7</td>\n",
       "      <td>1</td>\n",
       "      <td>1</td>\n",
       "      <td>0</td>\n",
       "      <td>2</td>\n",
       "    </tr>\n",
       "    <tr>\n",
       "      <th>2</th>\n",
       "      <td>563</td>\n",
       "      <td>1</td>\n",
       "      <td>0.5</td>\n",
       "      <td>1</td>\n",
       "      <td>2</td>\n",
       "      <td>1</td>\n",
       "      <td>41</td>\n",
       "      <td>0.9</td>\n",
       "      <td>145</td>\n",
       "      <td>5</td>\n",
       "      <td>6</td>\n",
       "      <td>1263</td>\n",
       "      <td>1716</td>\n",
       "      <td>2603</td>\n",
       "      <td>11</td>\n",
       "      <td>2</td>\n",
       "      <td>9</td>\n",
       "      <td>1</td>\n",
       "      <td>1</td>\n",
       "      <td>0</td>\n",
       "      <td>2</td>\n",
       "    </tr>\n",
       "    <tr>\n",
       "      <th>3</th>\n",
       "      <td>615</td>\n",
       "      <td>1</td>\n",
       "      <td>2.5</td>\n",
       "      <td>0</td>\n",
       "      <td>0</td>\n",
       "      <td>0</td>\n",
       "      <td>10</td>\n",
       "      <td>0.8</td>\n",
       "      <td>131</td>\n",
       "      <td>6</td>\n",
       "      <td>9</td>\n",
       "      <td>1216</td>\n",
       "      <td>1786</td>\n",
       "      <td>2769</td>\n",
       "      <td>16</td>\n",
       "      <td>8</td>\n",
       "      <td>11</td>\n",
       "      <td>1</td>\n",
       "      <td>0</td>\n",
       "      <td>0</td>\n",
       "      <td>2</td>\n",
       "    </tr>\n",
       "    <tr>\n",
       "      <th>4</th>\n",
       "      <td>1821</td>\n",
       "      <td>1</td>\n",
       "      <td>1.2</td>\n",
       "      <td>0</td>\n",
       "      <td>13</td>\n",
       "      <td>1</td>\n",
       "      <td>44</td>\n",
       "      <td>0.6</td>\n",
       "      <td>141</td>\n",
       "      <td>2</td>\n",
       "      <td>14</td>\n",
       "      <td>1208</td>\n",
       "      <td>1212</td>\n",
       "      <td>1411</td>\n",
       "      <td>8</td>\n",
       "      <td>2</td>\n",
       "      <td>15</td>\n",
       "      <td>1</td>\n",
       "      <td>1</td>\n",
       "      <td>0</td>\n",
       "      <td>1</td>\n",
       "    </tr>\n",
       "  </tbody>\n",
       "</table>\n",
       "</div>"
      ],
      "text/plain": [
       "   battery_power  blue  clock_speed  dual_sim  fc  four_g  int_memory  m_dep  \\\n",
       "0            842     0          2.2         0   1       0           7    0.6   \n",
       "1           1021     1          0.5         1   0       1          53    0.7   \n",
       "2            563     1          0.5         1   2       1          41    0.9   \n",
       "3            615     1          2.5         0   0       0          10    0.8   \n",
       "4           1821     1          1.2         0  13       1          44    0.6   \n",
       "\n",
       "   mobile_wt  n_cores  pc  px_height  px_width   ram  sc_h  sc_w  talk_time  \\\n",
       "0        188        2   2         20       756  2549     9     7         19   \n",
       "1        136        3   6        905      1988  2631    17     3          7   \n",
       "2        145        5   6       1263      1716  2603    11     2          9   \n",
       "3        131        6   9       1216      1786  2769    16     8         11   \n",
       "4        141        2  14       1208      1212  1411     8     2         15   \n",
       "\n",
       "   three_g  touch_screen  wifi  price_range  \n",
       "0        0             0     1            1  \n",
       "1        1             1     0            2  \n",
       "2        1             1     0            2  \n",
       "3        1             0     0            2  \n",
       "4        1             1     0            1  "
      ]
     },
     "execution_count": 4,
     "metadata": {},
     "output_type": "execute_result"
    }
   ],
   "source": [
    "## print the top5 records\n",
    "train_df.head()"
   ]
  },
  {
   "cell_type": "code",
   "execution_count": 5,
   "id": "a4c77c79",
   "metadata": {
    "execution": {
     "iopub.execute_input": "2024-05-28T11:55:12.413185Z",
     "iopub.status.busy": "2024-05-28T11:55:12.412179Z",
     "iopub.status.idle": "2024-05-28T11:55:12.431915Z",
     "shell.execute_reply": "2024-05-28T11:55:12.431003Z"
    },
    "papermill": {
     "duration": 0.041331,
     "end_time": "2024-05-28T11:55:12.434067",
     "exception": false,
     "start_time": "2024-05-28T11:55:12.392736",
     "status": "completed"
    },
    "tags": []
   },
   "outputs": [
    {
     "data": {
      "text/html": [
       "<div>\n",
       "<style scoped>\n",
       "    .dataframe tbody tr th:only-of-type {\n",
       "        vertical-align: middle;\n",
       "    }\n",
       "\n",
       "    .dataframe tbody tr th {\n",
       "        vertical-align: top;\n",
       "    }\n",
       "\n",
       "    .dataframe thead th {\n",
       "        text-align: right;\n",
       "    }\n",
       "</style>\n",
       "<table border=\"1\" class=\"dataframe\">\n",
       "  <thead>\n",
       "    <tr style=\"text-align: right;\">\n",
       "      <th></th>\n",
       "      <th>id</th>\n",
       "      <th>battery_power</th>\n",
       "      <th>blue</th>\n",
       "      <th>clock_speed</th>\n",
       "      <th>dual_sim</th>\n",
       "      <th>fc</th>\n",
       "      <th>four_g</th>\n",
       "      <th>int_memory</th>\n",
       "      <th>m_dep</th>\n",
       "      <th>mobile_wt</th>\n",
       "      <th>n_cores</th>\n",
       "      <th>pc</th>\n",
       "      <th>px_height</th>\n",
       "      <th>px_width</th>\n",
       "      <th>ram</th>\n",
       "      <th>sc_h</th>\n",
       "      <th>sc_w</th>\n",
       "      <th>talk_time</th>\n",
       "      <th>three_g</th>\n",
       "      <th>touch_screen</th>\n",
       "      <th>wifi</th>\n",
       "    </tr>\n",
       "  </thead>\n",
       "  <tbody>\n",
       "    <tr>\n",
       "      <th>0</th>\n",
       "      <td>1</td>\n",
       "      <td>1043</td>\n",
       "      <td>1</td>\n",
       "      <td>1.8</td>\n",
       "      <td>1</td>\n",
       "      <td>14</td>\n",
       "      <td>0</td>\n",
       "      <td>5</td>\n",
       "      <td>0.1</td>\n",
       "      <td>193</td>\n",
       "      <td>3</td>\n",
       "      <td>16</td>\n",
       "      <td>226</td>\n",
       "      <td>1412</td>\n",
       "      <td>3476</td>\n",
       "      <td>12</td>\n",
       "      <td>7</td>\n",
       "      <td>2</td>\n",
       "      <td>0</td>\n",
       "      <td>1</td>\n",
       "      <td>0</td>\n",
       "    </tr>\n",
       "    <tr>\n",
       "      <th>1</th>\n",
       "      <td>2</td>\n",
       "      <td>841</td>\n",
       "      <td>1</td>\n",
       "      <td>0.5</td>\n",
       "      <td>1</td>\n",
       "      <td>4</td>\n",
       "      <td>1</td>\n",
       "      <td>61</td>\n",
       "      <td>0.8</td>\n",
       "      <td>191</td>\n",
       "      <td>5</td>\n",
       "      <td>12</td>\n",
       "      <td>746</td>\n",
       "      <td>857</td>\n",
       "      <td>3895</td>\n",
       "      <td>6</td>\n",
       "      <td>0</td>\n",
       "      <td>7</td>\n",
       "      <td>1</td>\n",
       "      <td>0</td>\n",
       "      <td>0</td>\n",
       "    </tr>\n",
       "    <tr>\n",
       "      <th>2</th>\n",
       "      <td>3</td>\n",
       "      <td>1807</td>\n",
       "      <td>1</td>\n",
       "      <td>2.8</td>\n",
       "      <td>0</td>\n",
       "      <td>1</td>\n",
       "      <td>0</td>\n",
       "      <td>27</td>\n",
       "      <td>0.9</td>\n",
       "      <td>186</td>\n",
       "      <td>3</td>\n",
       "      <td>4</td>\n",
       "      <td>1270</td>\n",
       "      <td>1366</td>\n",
       "      <td>2396</td>\n",
       "      <td>17</td>\n",
       "      <td>10</td>\n",
       "      <td>10</td>\n",
       "      <td>0</td>\n",
       "      <td>1</td>\n",
       "      <td>1</td>\n",
       "    </tr>\n",
       "    <tr>\n",
       "      <th>3</th>\n",
       "      <td>4</td>\n",
       "      <td>1546</td>\n",
       "      <td>0</td>\n",
       "      <td>0.5</td>\n",
       "      <td>1</td>\n",
       "      <td>18</td>\n",
       "      <td>1</td>\n",
       "      <td>25</td>\n",
       "      <td>0.5</td>\n",
       "      <td>96</td>\n",
       "      <td>8</td>\n",
       "      <td>20</td>\n",
       "      <td>295</td>\n",
       "      <td>1752</td>\n",
       "      <td>3893</td>\n",
       "      <td>10</td>\n",
       "      <td>0</td>\n",
       "      <td>7</td>\n",
       "      <td>1</td>\n",
       "      <td>1</td>\n",
       "      <td>0</td>\n",
       "    </tr>\n",
       "    <tr>\n",
       "      <th>4</th>\n",
       "      <td>5</td>\n",
       "      <td>1434</td>\n",
       "      <td>0</td>\n",
       "      <td>1.4</td>\n",
       "      <td>0</td>\n",
       "      <td>11</td>\n",
       "      <td>1</td>\n",
       "      <td>49</td>\n",
       "      <td>0.5</td>\n",
       "      <td>108</td>\n",
       "      <td>6</td>\n",
       "      <td>18</td>\n",
       "      <td>749</td>\n",
       "      <td>810</td>\n",
       "      <td>1773</td>\n",
       "      <td>15</td>\n",
       "      <td>8</td>\n",
       "      <td>7</td>\n",
       "      <td>1</td>\n",
       "      <td>0</td>\n",
       "      <td>1</td>\n",
       "    </tr>\n",
       "  </tbody>\n",
       "</table>\n",
       "</div>"
      ],
      "text/plain": [
       "   id  battery_power  blue  clock_speed  dual_sim  fc  four_g  int_memory  \\\n",
       "0   1           1043     1          1.8         1  14       0           5   \n",
       "1   2            841     1          0.5         1   4       1          61   \n",
       "2   3           1807     1          2.8         0   1       0          27   \n",
       "3   4           1546     0          0.5         1  18       1          25   \n",
       "4   5           1434     0          1.4         0  11       1          49   \n",
       "\n",
       "   m_dep  mobile_wt  n_cores  pc  px_height  px_width   ram  sc_h  sc_w  \\\n",
       "0    0.1        193        3  16        226      1412  3476    12     7   \n",
       "1    0.8        191        5  12        746       857  3895     6     0   \n",
       "2    0.9        186        3   4       1270      1366  2396    17    10   \n",
       "3    0.5         96        8  20        295      1752  3893    10     0   \n",
       "4    0.5        108        6  18        749       810  1773    15     8   \n",
       "\n",
       "   talk_time  three_g  touch_screen  wifi  \n",
       "0          2        0             1     0  \n",
       "1          7        1             0     0  \n",
       "2         10        0             1     1  \n",
       "3          7        1             1     0  \n",
       "4          7        1             0     1  "
      ]
     },
     "execution_count": 5,
     "metadata": {},
     "output_type": "execute_result"
    }
   ],
   "source": [
    "test_df.head()"
   ]
  },
  {
   "cell_type": "code",
   "execution_count": 6,
   "id": "4911da58",
   "metadata": {
    "execution": {
     "iopub.execute_input": "2024-05-28T11:55:12.474999Z",
     "iopub.status.busy": "2024-05-28T11:55:12.474171Z",
     "iopub.status.idle": "2024-05-28T11:55:12.506007Z",
     "shell.execute_reply": "2024-05-28T11:55:12.503859Z"
    },
    "papermill": {
     "duration": 0.055806,
     "end_time": "2024-05-28T11:55:12.508588",
     "exception": false,
     "start_time": "2024-05-28T11:55:12.452782",
     "status": "completed"
    },
    "tags": []
   },
   "outputs": [
    {
     "name": "stdout",
     "output_type": "stream",
     "text": [
      "<class 'pandas.core.frame.DataFrame'>\n",
      "RangeIndex: 2000 entries, 0 to 1999\n",
      "Data columns (total 21 columns):\n",
      " #   Column         Non-Null Count  Dtype  \n",
      "---  ------         --------------  -----  \n",
      " 0   battery_power  2000 non-null   int64  \n",
      " 1   blue           2000 non-null   int64  \n",
      " 2   clock_speed    2000 non-null   float64\n",
      " 3   dual_sim       2000 non-null   int64  \n",
      " 4   fc             2000 non-null   int64  \n",
      " 5   four_g         2000 non-null   int64  \n",
      " 6   int_memory     2000 non-null   int64  \n",
      " 7   m_dep          2000 non-null   float64\n",
      " 8   mobile_wt      2000 non-null   int64  \n",
      " 9   n_cores        2000 non-null   int64  \n",
      " 10  pc             2000 non-null   int64  \n",
      " 11  px_height      2000 non-null   int64  \n",
      " 12  px_width       2000 non-null   int64  \n",
      " 13  ram            2000 non-null   int64  \n",
      " 14  sc_h           2000 non-null   int64  \n",
      " 15  sc_w           2000 non-null   int64  \n",
      " 16  talk_time      2000 non-null   int64  \n",
      " 17  three_g        2000 non-null   int64  \n",
      " 18  touch_screen   2000 non-null   int64  \n",
      " 19  wifi           2000 non-null   int64  \n",
      " 20  price_range    2000 non-null   int64  \n",
      "dtypes: float64(2), int64(19)\n",
      "memory usage: 328.2 KB\n"
     ]
    }
   ],
   "source": [
    "train_df.info()"
   ]
  },
  {
   "cell_type": "code",
   "execution_count": 7,
   "id": "96786e90",
   "metadata": {
    "execution": {
     "iopub.execute_input": "2024-05-28T11:55:12.549122Z",
     "iopub.status.busy": "2024-05-28T11:55:12.547713Z",
     "iopub.status.idle": "2024-05-28T11:55:12.560272Z",
     "shell.execute_reply": "2024-05-28T11:55:12.559298Z"
    },
    "papermill": {
     "duration": 0.035784,
     "end_time": "2024-05-28T11:55:12.563321",
     "exception": false,
     "start_time": "2024-05-28T11:55:12.527537",
     "status": "completed"
    },
    "tags": []
   },
   "outputs": [
    {
     "name": "stdout",
     "output_type": "stream",
     "text": [
      "<class 'pandas.core.frame.DataFrame'>\n",
      "RangeIndex: 1000 entries, 0 to 999\n",
      "Data columns (total 21 columns):\n",
      " #   Column         Non-Null Count  Dtype  \n",
      "---  ------         --------------  -----  \n",
      " 0   id             1000 non-null   int64  \n",
      " 1   battery_power  1000 non-null   int64  \n",
      " 2   blue           1000 non-null   int64  \n",
      " 3   clock_speed    1000 non-null   float64\n",
      " 4   dual_sim       1000 non-null   int64  \n",
      " 5   fc             1000 non-null   int64  \n",
      " 6   four_g         1000 non-null   int64  \n",
      " 7   int_memory     1000 non-null   int64  \n",
      " 8   m_dep          1000 non-null   float64\n",
      " 9   mobile_wt      1000 non-null   int64  \n",
      " 10  n_cores        1000 non-null   int64  \n",
      " 11  pc             1000 non-null   int64  \n",
      " 12  px_height      1000 non-null   int64  \n",
      " 13  px_width       1000 non-null   int64  \n",
      " 14  ram            1000 non-null   int64  \n",
      " 15  sc_h           1000 non-null   int64  \n",
      " 16  sc_w           1000 non-null   int64  \n",
      " 17  talk_time      1000 non-null   int64  \n",
      " 18  three_g        1000 non-null   int64  \n",
      " 19  touch_screen   1000 non-null   int64  \n",
      " 20  wifi           1000 non-null   int64  \n",
      "dtypes: float64(2), int64(19)\n",
      "memory usage: 164.2 KB\n"
     ]
    }
   ],
   "source": [
    "test_df.info()"
   ]
  },
  {
   "cell_type": "code",
   "execution_count": 8,
   "id": "c416fb65",
   "metadata": {
    "execution": {
     "iopub.execute_input": "2024-05-28T11:55:12.604755Z",
     "iopub.status.busy": "2024-05-28T11:55:12.603824Z",
     "iopub.status.idle": "2024-05-28T11:55:12.666658Z",
     "shell.execute_reply": "2024-05-28T11:55:12.664621Z"
    },
    "papermill": {
     "duration": 0.085761,
     "end_time": "2024-05-28T11:55:12.669352",
     "exception": false,
     "start_time": "2024-05-28T11:55:12.583591",
     "status": "completed"
    },
    "tags": []
   },
   "outputs": [
    {
     "name": "stdout",
     "output_type": "stream",
     "text": [
      "\n",
      "Data Types:\n",
      "battery_power      int64\n",
      "blue               int64\n",
      "clock_speed      float64\n",
      "dual_sim           int64\n",
      "fc                 int64\n",
      "four_g             int64\n",
      "int_memory         int64\n",
      "m_dep            float64\n",
      "mobile_wt          int64\n",
      "n_cores            int64\n",
      "pc                 int64\n",
      "px_height          int64\n",
      "px_width           int64\n",
      "ram                int64\n",
      "sc_h               int64\n",
      "sc_w               int64\n",
      "talk_time          int64\n",
      "three_g            int64\n",
      "touch_screen       int64\n",
      "wifi               int64\n",
      "price_range        int64\n",
      "dtype: object\n",
      "\n",
      "Descriptive Statistics:\n",
      "       battery_power       blue  clock_speed     dual_sim           fc  \\\n",
      "count    2000.000000  2000.0000  2000.000000  2000.000000  2000.000000   \n",
      "mean     1238.518500     0.4950     1.522250     0.509500     4.309500   \n",
      "std       439.418206     0.5001     0.816004     0.500035     4.341444   \n",
      "min       501.000000     0.0000     0.500000     0.000000     0.000000   \n",
      "25%       851.750000     0.0000     0.700000     0.000000     1.000000   \n",
      "50%      1226.000000     0.0000     1.500000     1.000000     3.000000   \n",
      "75%      1615.250000     1.0000     2.200000     1.000000     7.000000   \n",
      "max      1998.000000     1.0000     3.000000     1.000000    19.000000   \n",
      "\n",
      "            four_g   int_memory        m_dep    mobile_wt      n_cores  \\\n",
      "count  2000.000000  2000.000000  2000.000000  2000.000000  2000.000000   \n",
      "mean      0.521500    32.046500     0.501750   140.249000     4.520500   \n",
      "std       0.499662    18.145715     0.288416    35.399655     2.287837   \n",
      "min       0.000000     2.000000     0.100000    80.000000     1.000000   \n",
      "25%       0.000000    16.000000     0.200000   109.000000     3.000000   \n",
      "50%       1.000000    32.000000     0.500000   141.000000     4.000000   \n",
      "75%       1.000000    48.000000     0.800000   170.000000     7.000000   \n",
      "max       1.000000    64.000000     1.000000   200.000000     8.000000   \n",
      "\n",
      "                pc    px_height     px_width          ram         sc_h  \\\n",
      "count  2000.000000  2000.000000  2000.000000  2000.000000  2000.000000   \n",
      "mean      9.916500   645.108000  1251.515500  2124.213000    12.306500   \n",
      "std       6.064315   443.780811   432.199447  1084.732044     4.213245   \n",
      "min       0.000000     0.000000   500.000000   256.000000     5.000000   \n",
      "25%       5.000000   282.750000   874.750000  1207.500000     9.000000   \n",
      "50%      10.000000   564.000000  1247.000000  2146.500000    12.000000   \n",
      "75%      15.000000   947.250000  1633.000000  3064.500000    16.000000   \n",
      "max      20.000000  1960.000000  1998.000000  3998.000000    19.000000   \n",
      "\n",
      "              sc_w    talk_time      three_g  touch_screen         wifi  \\\n",
      "count  2000.000000  2000.000000  2000.000000   2000.000000  2000.000000   \n",
      "mean      5.767000    11.011000     0.761500      0.503000     0.507000   \n",
      "std       4.356398     5.463955     0.426273      0.500116     0.500076   \n",
      "min       0.000000     2.000000     0.000000      0.000000     0.000000   \n",
      "25%       2.000000     6.000000     1.000000      0.000000     0.000000   \n",
      "50%       5.000000    11.000000     1.000000      1.000000     1.000000   \n",
      "75%       9.000000    16.000000     1.000000      1.000000     1.000000   \n",
      "max      18.000000    20.000000     1.000000      1.000000     1.000000   \n",
      "\n",
      "       price_range  \n",
      "count  2000.000000  \n",
      "mean      1.500000  \n",
      "std       1.118314  \n",
      "min       0.000000  \n",
      "25%       0.750000  \n",
      "50%       1.500000  \n",
      "75%       2.250000  \n",
      "max       3.000000  \n"
     ]
    }
   ],
   "source": [
    "# Verifying data types and integrity\n",
    "print(\"\\nData Types:\")\n",
    "print(train_df.dtypes)\n",
    "\n",
    "# Descriptive Statistics\n",
    "print(\"\\nDescriptive Statistics:\")\n",
    "print(train_df.describe())"
   ]
  },
  {
   "cell_type": "code",
   "execution_count": 9,
   "id": "fb3d383e",
   "metadata": {
    "execution": {
     "iopub.execute_input": "2024-05-28T11:55:12.709972Z",
     "iopub.status.busy": "2024-05-28T11:55:12.709525Z",
     "iopub.status.idle": "2024-05-28T11:55:12.715071Z",
     "shell.execute_reply": "2024-05-28T11:55:12.713728Z"
    },
    "papermill": {
     "duration": 0.02939,
     "end_time": "2024-05-28T11:55:12.717784",
     "exception": false,
     "start_time": "2024-05-28T11:55:12.688394",
     "status": "completed"
    },
    "tags": []
   },
   "outputs": [],
   "source": [
    "dataset=train_df"
   ]
  },
  {
   "cell_type": "markdown",
   "id": "1f512ba3",
   "metadata": {
    "papermill": {
     "duration": 0.019922,
     "end_time": "2024-05-28T11:55:12.756807",
     "exception": false,
     "start_time": "2024-05-28T11:55:12.736885",
     "status": "completed"
    },
    "tags": []
   },
   "source": [
    "# EDA\n",
    "## Missing features"
   ]
  },
  {
   "cell_type": "code",
   "execution_count": 10,
   "id": "a771f085",
   "metadata": {
    "execution": {
     "iopub.execute_input": "2024-05-28T11:55:12.796946Z",
     "iopub.status.busy": "2024-05-28T11:55:12.796541Z",
     "iopub.status.idle": "2024-05-28T11:55:12.806805Z",
     "shell.execute_reply": "2024-05-28T11:55:12.805883Z"
    },
    "papermill": {
     "duration": 0.033181,
     "end_time": "2024-05-28T11:55:12.809023",
     "exception": false,
     "start_time": "2024-05-28T11:55:12.775842",
     "status": "completed"
    },
    "tags": []
   },
   "outputs": [],
   "source": [
    "## Here we will check the percentage of nan values present in each feature\n",
    "## 1 -step make the list of features which has missing values\n",
    "features_with_na=[features for features in dataset.columns if dataset[features].isnull().sum()>1]\n",
    "## 2- step print the feature name and the percentage of missing values\n",
    "\n",
    "for feature in features_with_na:\n",
    "    print(feature, np.round(dataset[feature].isnull().mean(), 4),  ' % missing values')"
   ]
  },
  {
   "cell_type": "markdown",
   "id": "39417efd",
   "metadata": {
    "papermill": {
     "duration": 0.018507,
     "end_time": "2024-05-28T11:55:12.846560",
     "exception": false,
     "start_time": "2024-05-28T11:55:12.828053",
     "status": "completed"
    },
    "tags": []
   },
   "source": [
    "No Missing Feature"
   ]
  },
  {
   "cell_type": "markdown",
   "id": "0c8a3ba1",
   "metadata": {
    "papermill": {
     "duration": 0.018529,
     "end_time": "2024-05-28T11:55:12.883847",
     "exception": false,
     "start_time": "2024-05-28T11:55:12.865318",
     "status": "completed"
    },
    "tags": []
   },
   "source": [
    "## Numerical Variables"
   ]
  },
  {
   "cell_type": "code",
   "execution_count": 11,
   "id": "538dad02",
   "metadata": {
    "execution": {
     "iopub.execute_input": "2024-05-28T11:55:12.923543Z",
     "iopub.status.busy": "2024-05-28T11:55:12.922828Z",
     "iopub.status.idle": "2024-05-28T11:55:12.947555Z",
     "shell.execute_reply": "2024-05-28T11:55:12.946259Z"
    },
    "papermill": {
     "duration": 0.047595,
     "end_time": "2024-05-28T11:55:12.950166",
     "exception": false,
     "start_time": "2024-05-28T11:55:12.902571",
     "status": "completed"
    },
    "tags": []
   },
   "outputs": [
    {
     "name": "stdout",
     "output_type": "stream",
     "text": [
      "Number of numerical variables:  21\n"
     ]
    },
    {
     "data": {
      "text/html": [
       "<div>\n",
       "<style scoped>\n",
       "    .dataframe tbody tr th:only-of-type {\n",
       "        vertical-align: middle;\n",
       "    }\n",
       "\n",
       "    .dataframe tbody tr th {\n",
       "        vertical-align: top;\n",
       "    }\n",
       "\n",
       "    .dataframe thead th {\n",
       "        text-align: right;\n",
       "    }\n",
       "</style>\n",
       "<table border=\"1\" class=\"dataframe\">\n",
       "  <thead>\n",
       "    <tr style=\"text-align: right;\">\n",
       "      <th></th>\n",
       "      <th>battery_power</th>\n",
       "      <th>blue</th>\n",
       "      <th>clock_speed</th>\n",
       "      <th>dual_sim</th>\n",
       "      <th>fc</th>\n",
       "      <th>four_g</th>\n",
       "      <th>int_memory</th>\n",
       "      <th>m_dep</th>\n",
       "      <th>mobile_wt</th>\n",
       "      <th>n_cores</th>\n",
       "      <th>pc</th>\n",
       "      <th>px_height</th>\n",
       "      <th>px_width</th>\n",
       "      <th>ram</th>\n",
       "      <th>sc_h</th>\n",
       "      <th>sc_w</th>\n",
       "      <th>talk_time</th>\n",
       "      <th>three_g</th>\n",
       "      <th>touch_screen</th>\n",
       "      <th>wifi</th>\n",
       "      <th>price_range</th>\n",
       "    </tr>\n",
       "  </thead>\n",
       "  <tbody>\n",
       "    <tr>\n",
       "      <th>0</th>\n",
       "      <td>842</td>\n",
       "      <td>0</td>\n",
       "      <td>2.2</td>\n",
       "      <td>0</td>\n",
       "      <td>1</td>\n",
       "      <td>0</td>\n",
       "      <td>7</td>\n",
       "      <td>0.6</td>\n",
       "      <td>188</td>\n",
       "      <td>2</td>\n",
       "      <td>2</td>\n",
       "      <td>20</td>\n",
       "      <td>756</td>\n",
       "      <td>2549</td>\n",
       "      <td>9</td>\n",
       "      <td>7</td>\n",
       "      <td>19</td>\n",
       "      <td>0</td>\n",
       "      <td>0</td>\n",
       "      <td>1</td>\n",
       "      <td>1</td>\n",
       "    </tr>\n",
       "    <tr>\n",
       "      <th>1</th>\n",
       "      <td>1021</td>\n",
       "      <td>1</td>\n",
       "      <td>0.5</td>\n",
       "      <td>1</td>\n",
       "      <td>0</td>\n",
       "      <td>1</td>\n",
       "      <td>53</td>\n",
       "      <td>0.7</td>\n",
       "      <td>136</td>\n",
       "      <td>3</td>\n",
       "      <td>6</td>\n",
       "      <td>905</td>\n",
       "      <td>1988</td>\n",
       "      <td>2631</td>\n",
       "      <td>17</td>\n",
       "      <td>3</td>\n",
       "      <td>7</td>\n",
       "      <td>1</td>\n",
       "      <td>1</td>\n",
       "      <td>0</td>\n",
       "      <td>2</td>\n",
       "    </tr>\n",
       "    <tr>\n",
       "      <th>2</th>\n",
       "      <td>563</td>\n",
       "      <td>1</td>\n",
       "      <td>0.5</td>\n",
       "      <td>1</td>\n",
       "      <td>2</td>\n",
       "      <td>1</td>\n",
       "      <td>41</td>\n",
       "      <td>0.9</td>\n",
       "      <td>145</td>\n",
       "      <td>5</td>\n",
       "      <td>6</td>\n",
       "      <td>1263</td>\n",
       "      <td>1716</td>\n",
       "      <td>2603</td>\n",
       "      <td>11</td>\n",
       "      <td>2</td>\n",
       "      <td>9</td>\n",
       "      <td>1</td>\n",
       "      <td>1</td>\n",
       "      <td>0</td>\n",
       "      <td>2</td>\n",
       "    </tr>\n",
       "    <tr>\n",
       "      <th>3</th>\n",
       "      <td>615</td>\n",
       "      <td>1</td>\n",
       "      <td>2.5</td>\n",
       "      <td>0</td>\n",
       "      <td>0</td>\n",
       "      <td>0</td>\n",
       "      <td>10</td>\n",
       "      <td>0.8</td>\n",
       "      <td>131</td>\n",
       "      <td>6</td>\n",
       "      <td>9</td>\n",
       "      <td>1216</td>\n",
       "      <td>1786</td>\n",
       "      <td>2769</td>\n",
       "      <td>16</td>\n",
       "      <td>8</td>\n",
       "      <td>11</td>\n",
       "      <td>1</td>\n",
       "      <td>0</td>\n",
       "      <td>0</td>\n",
       "      <td>2</td>\n",
       "    </tr>\n",
       "    <tr>\n",
       "      <th>4</th>\n",
       "      <td>1821</td>\n",
       "      <td>1</td>\n",
       "      <td>1.2</td>\n",
       "      <td>0</td>\n",
       "      <td>13</td>\n",
       "      <td>1</td>\n",
       "      <td>44</td>\n",
       "      <td>0.6</td>\n",
       "      <td>141</td>\n",
       "      <td>2</td>\n",
       "      <td>14</td>\n",
       "      <td>1208</td>\n",
       "      <td>1212</td>\n",
       "      <td>1411</td>\n",
       "      <td>8</td>\n",
       "      <td>2</td>\n",
       "      <td>15</td>\n",
       "      <td>1</td>\n",
       "      <td>1</td>\n",
       "      <td>0</td>\n",
       "      <td>1</td>\n",
       "    </tr>\n",
       "  </tbody>\n",
       "</table>\n",
       "</div>"
      ],
      "text/plain": [
       "   battery_power  blue  clock_speed  dual_sim  fc  four_g  int_memory  m_dep  \\\n",
       "0            842     0          2.2         0   1       0           7    0.6   \n",
       "1           1021     1          0.5         1   0       1          53    0.7   \n",
       "2            563     1          0.5         1   2       1          41    0.9   \n",
       "3            615     1          2.5         0   0       0          10    0.8   \n",
       "4           1821     1          1.2         0  13       1          44    0.6   \n",
       "\n",
       "   mobile_wt  n_cores  pc  px_height  px_width   ram  sc_h  sc_w  talk_time  \\\n",
       "0        188        2   2         20       756  2549     9     7         19   \n",
       "1        136        3   6        905      1988  2631    17     3          7   \n",
       "2        145        5   6       1263      1716  2603    11     2          9   \n",
       "3        131        6   9       1216      1786  2769    16     8         11   \n",
       "4        141        2  14       1208      1212  1411     8     2         15   \n",
       "\n",
       "   three_g  touch_screen  wifi  price_range  \n",
       "0        0             0     1            1  \n",
       "1        1             1     0            2  \n",
       "2        1             1     0            2  \n",
       "3        1             0     0            2  \n",
       "4        1             1     0            1  "
      ]
     },
     "execution_count": 11,
     "metadata": {},
     "output_type": "execute_result"
    }
   ],
   "source": [
    "# list of numerical variables\n",
    "numerical_features = [feature for feature in dataset.columns if dataset[feature].dtypes != 'O']\n",
    "\n",
    "print('Number of numerical variables: ', len(numerical_features))\n",
    "\n",
    "# visualise the numerical variables\n",
    "dataset[numerical_features].head()"
   ]
  },
  {
   "cell_type": "code",
   "execution_count": 12,
   "id": "5d18c7b3",
   "metadata": {
    "execution": {
     "iopub.execute_input": "2024-05-28T11:55:12.991334Z",
     "iopub.status.busy": "2024-05-28T11:55:12.990950Z",
     "iopub.status.idle": "2024-05-28T11:55:13.061514Z",
     "shell.execute_reply": "2024-05-28T11:55:13.060309Z"
    },
    "papermill": {
     "duration": 0.094277,
     "end_time": "2024-05-28T11:55:13.064104",
     "exception": false,
     "start_time": "2024-05-28T11:55:12.969827",
     "status": "completed"
    },
    "tags": []
   },
   "outputs": [
    {
     "data": {
      "text/html": [
       "<div>\n",
       "<style scoped>\n",
       "    .dataframe tbody tr th:only-of-type {\n",
       "        vertical-align: middle;\n",
       "    }\n",
       "\n",
       "    .dataframe tbody tr th {\n",
       "        vertical-align: top;\n",
       "    }\n",
       "\n",
       "    .dataframe thead th {\n",
       "        text-align: right;\n",
       "    }\n",
       "</style>\n",
       "<table border=\"1\" class=\"dataframe\">\n",
       "  <thead>\n",
       "    <tr style=\"text-align: right;\">\n",
       "      <th></th>\n",
       "      <th>battery_power</th>\n",
       "      <th>blue</th>\n",
       "      <th>clock_speed</th>\n",
       "      <th>dual_sim</th>\n",
       "      <th>fc</th>\n",
       "      <th>four_g</th>\n",
       "      <th>int_memory</th>\n",
       "      <th>m_dep</th>\n",
       "      <th>mobile_wt</th>\n",
       "      <th>n_cores</th>\n",
       "      <th>pc</th>\n",
       "      <th>px_height</th>\n",
       "      <th>px_width</th>\n",
       "      <th>ram</th>\n",
       "      <th>sc_h</th>\n",
       "      <th>sc_w</th>\n",
       "      <th>talk_time</th>\n",
       "      <th>three_g</th>\n",
       "      <th>touch_screen</th>\n",
       "      <th>wifi</th>\n",
       "      <th>price_range</th>\n",
       "    </tr>\n",
       "  </thead>\n",
       "  <tbody>\n",
       "    <tr>\n",
       "      <th>count</th>\n",
       "      <td>2000.000000</td>\n",
       "      <td>2000.0000</td>\n",
       "      <td>2000.000000</td>\n",
       "      <td>2000.000000</td>\n",
       "      <td>2000.000000</td>\n",
       "      <td>2000.000000</td>\n",
       "      <td>2000.000000</td>\n",
       "      <td>2000.000000</td>\n",
       "      <td>2000.000000</td>\n",
       "      <td>2000.000000</td>\n",
       "      <td>2000.000000</td>\n",
       "      <td>2000.000000</td>\n",
       "      <td>2000.000000</td>\n",
       "      <td>2000.000000</td>\n",
       "      <td>2000.000000</td>\n",
       "      <td>2000.000000</td>\n",
       "      <td>2000.000000</td>\n",
       "      <td>2000.000000</td>\n",
       "      <td>2000.000000</td>\n",
       "      <td>2000.000000</td>\n",
       "      <td>2000.000000</td>\n",
       "    </tr>\n",
       "    <tr>\n",
       "      <th>mean</th>\n",
       "      <td>1238.518500</td>\n",
       "      <td>0.4950</td>\n",
       "      <td>1.522250</td>\n",
       "      <td>0.509500</td>\n",
       "      <td>4.309500</td>\n",
       "      <td>0.521500</td>\n",
       "      <td>32.046500</td>\n",
       "      <td>0.501750</td>\n",
       "      <td>140.249000</td>\n",
       "      <td>4.520500</td>\n",
       "      <td>9.916500</td>\n",
       "      <td>645.108000</td>\n",
       "      <td>1251.515500</td>\n",
       "      <td>2124.213000</td>\n",
       "      <td>12.306500</td>\n",
       "      <td>5.767000</td>\n",
       "      <td>11.011000</td>\n",
       "      <td>0.761500</td>\n",
       "      <td>0.503000</td>\n",
       "      <td>0.507000</td>\n",
       "      <td>1.500000</td>\n",
       "    </tr>\n",
       "    <tr>\n",
       "      <th>std</th>\n",
       "      <td>439.418206</td>\n",
       "      <td>0.5001</td>\n",
       "      <td>0.816004</td>\n",
       "      <td>0.500035</td>\n",
       "      <td>4.341444</td>\n",
       "      <td>0.499662</td>\n",
       "      <td>18.145715</td>\n",
       "      <td>0.288416</td>\n",
       "      <td>35.399655</td>\n",
       "      <td>2.287837</td>\n",
       "      <td>6.064315</td>\n",
       "      <td>443.780811</td>\n",
       "      <td>432.199447</td>\n",
       "      <td>1084.732044</td>\n",
       "      <td>4.213245</td>\n",
       "      <td>4.356398</td>\n",
       "      <td>5.463955</td>\n",
       "      <td>0.426273</td>\n",
       "      <td>0.500116</td>\n",
       "      <td>0.500076</td>\n",
       "      <td>1.118314</td>\n",
       "    </tr>\n",
       "    <tr>\n",
       "      <th>min</th>\n",
       "      <td>501.000000</td>\n",
       "      <td>0.0000</td>\n",
       "      <td>0.500000</td>\n",
       "      <td>0.000000</td>\n",
       "      <td>0.000000</td>\n",
       "      <td>0.000000</td>\n",
       "      <td>2.000000</td>\n",
       "      <td>0.100000</td>\n",
       "      <td>80.000000</td>\n",
       "      <td>1.000000</td>\n",
       "      <td>0.000000</td>\n",
       "      <td>0.000000</td>\n",
       "      <td>500.000000</td>\n",
       "      <td>256.000000</td>\n",
       "      <td>5.000000</td>\n",
       "      <td>0.000000</td>\n",
       "      <td>2.000000</td>\n",
       "      <td>0.000000</td>\n",
       "      <td>0.000000</td>\n",
       "      <td>0.000000</td>\n",
       "      <td>0.000000</td>\n",
       "    </tr>\n",
       "    <tr>\n",
       "      <th>25%</th>\n",
       "      <td>851.750000</td>\n",
       "      <td>0.0000</td>\n",
       "      <td>0.700000</td>\n",
       "      <td>0.000000</td>\n",
       "      <td>1.000000</td>\n",
       "      <td>0.000000</td>\n",
       "      <td>16.000000</td>\n",
       "      <td>0.200000</td>\n",
       "      <td>109.000000</td>\n",
       "      <td>3.000000</td>\n",
       "      <td>5.000000</td>\n",
       "      <td>282.750000</td>\n",
       "      <td>874.750000</td>\n",
       "      <td>1207.500000</td>\n",
       "      <td>9.000000</td>\n",
       "      <td>2.000000</td>\n",
       "      <td>6.000000</td>\n",
       "      <td>1.000000</td>\n",
       "      <td>0.000000</td>\n",
       "      <td>0.000000</td>\n",
       "      <td>0.750000</td>\n",
       "    </tr>\n",
       "    <tr>\n",
       "      <th>50%</th>\n",
       "      <td>1226.000000</td>\n",
       "      <td>0.0000</td>\n",
       "      <td>1.500000</td>\n",
       "      <td>1.000000</td>\n",
       "      <td>3.000000</td>\n",
       "      <td>1.000000</td>\n",
       "      <td>32.000000</td>\n",
       "      <td>0.500000</td>\n",
       "      <td>141.000000</td>\n",
       "      <td>4.000000</td>\n",
       "      <td>10.000000</td>\n",
       "      <td>564.000000</td>\n",
       "      <td>1247.000000</td>\n",
       "      <td>2146.500000</td>\n",
       "      <td>12.000000</td>\n",
       "      <td>5.000000</td>\n",
       "      <td>11.000000</td>\n",
       "      <td>1.000000</td>\n",
       "      <td>1.000000</td>\n",
       "      <td>1.000000</td>\n",
       "      <td>1.500000</td>\n",
       "    </tr>\n",
       "    <tr>\n",
       "      <th>75%</th>\n",
       "      <td>1615.250000</td>\n",
       "      <td>1.0000</td>\n",
       "      <td>2.200000</td>\n",
       "      <td>1.000000</td>\n",
       "      <td>7.000000</td>\n",
       "      <td>1.000000</td>\n",
       "      <td>48.000000</td>\n",
       "      <td>0.800000</td>\n",
       "      <td>170.000000</td>\n",
       "      <td>7.000000</td>\n",
       "      <td>15.000000</td>\n",
       "      <td>947.250000</td>\n",
       "      <td>1633.000000</td>\n",
       "      <td>3064.500000</td>\n",
       "      <td>16.000000</td>\n",
       "      <td>9.000000</td>\n",
       "      <td>16.000000</td>\n",
       "      <td>1.000000</td>\n",
       "      <td>1.000000</td>\n",
       "      <td>1.000000</td>\n",
       "      <td>2.250000</td>\n",
       "    </tr>\n",
       "    <tr>\n",
       "      <th>max</th>\n",
       "      <td>1998.000000</td>\n",
       "      <td>1.0000</td>\n",
       "      <td>3.000000</td>\n",
       "      <td>1.000000</td>\n",
       "      <td>19.000000</td>\n",
       "      <td>1.000000</td>\n",
       "      <td>64.000000</td>\n",
       "      <td>1.000000</td>\n",
       "      <td>200.000000</td>\n",
       "      <td>8.000000</td>\n",
       "      <td>20.000000</td>\n",
       "      <td>1960.000000</td>\n",
       "      <td>1998.000000</td>\n",
       "      <td>3998.000000</td>\n",
       "      <td>19.000000</td>\n",
       "      <td>18.000000</td>\n",
       "      <td>20.000000</td>\n",
       "      <td>1.000000</td>\n",
       "      <td>1.000000</td>\n",
       "      <td>1.000000</td>\n",
       "      <td>3.000000</td>\n",
       "    </tr>\n",
       "  </tbody>\n",
       "</table>\n",
       "</div>"
      ],
      "text/plain": [
       "       battery_power       blue  clock_speed     dual_sim           fc  \\\n",
       "count    2000.000000  2000.0000  2000.000000  2000.000000  2000.000000   \n",
       "mean     1238.518500     0.4950     1.522250     0.509500     4.309500   \n",
       "std       439.418206     0.5001     0.816004     0.500035     4.341444   \n",
       "min       501.000000     0.0000     0.500000     0.000000     0.000000   \n",
       "25%       851.750000     0.0000     0.700000     0.000000     1.000000   \n",
       "50%      1226.000000     0.0000     1.500000     1.000000     3.000000   \n",
       "75%      1615.250000     1.0000     2.200000     1.000000     7.000000   \n",
       "max      1998.000000     1.0000     3.000000     1.000000    19.000000   \n",
       "\n",
       "            four_g   int_memory        m_dep    mobile_wt      n_cores  \\\n",
       "count  2000.000000  2000.000000  2000.000000  2000.000000  2000.000000   \n",
       "mean      0.521500    32.046500     0.501750   140.249000     4.520500   \n",
       "std       0.499662    18.145715     0.288416    35.399655     2.287837   \n",
       "min       0.000000     2.000000     0.100000    80.000000     1.000000   \n",
       "25%       0.000000    16.000000     0.200000   109.000000     3.000000   \n",
       "50%       1.000000    32.000000     0.500000   141.000000     4.000000   \n",
       "75%       1.000000    48.000000     0.800000   170.000000     7.000000   \n",
       "max       1.000000    64.000000     1.000000   200.000000     8.000000   \n",
       "\n",
       "                pc    px_height     px_width          ram         sc_h  \\\n",
       "count  2000.000000  2000.000000  2000.000000  2000.000000  2000.000000   \n",
       "mean      9.916500   645.108000  1251.515500  2124.213000    12.306500   \n",
       "std       6.064315   443.780811   432.199447  1084.732044     4.213245   \n",
       "min       0.000000     0.000000   500.000000   256.000000     5.000000   \n",
       "25%       5.000000   282.750000   874.750000  1207.500000     9.000000   \n",
       "50%      10.000000   564.000000  1247.000000  2146.500000    12.000000   \n",
       "75%      15.000000   947.250000  1633.000000  3064.500000    16.000000   \n",
       "max      20.000000  1960.000000  1998.000000  3998.000000    19.000000   \n",
       "\n",
       "              sc_w    talk_time      three_g  touch_screen         wifi  \\\n",
       "count  2000.000000  2000.000000  2000.000000   2000.000000  2000.000000   \n",
       "mean      5.767000    11.011000     0.761500      0.503000     0.507000   \n",
       "std       4.356398     5.463955     0.426273      0.500116     0.500076   \n",
       "min       0.000000     2.000000     0.000000      0.000000     0.000000   \n",
       "25%       2.000000     6.000000     1.000000      0.000000     0.000000   \n",
       "50%       5.000000    11.000000     1.000000      1.000000     1.000000   \n",
       "75%       9.000000    16.000000     1.000000      1.000000     1.000000   \n",
       "max      18.000000    20.000000     1.000000      1.000000     1.000000   \n",
       "\n",
       "       price_range  \n",
       "count  2000.000000  \n",
       "mean      1.500000  \n",
       "std       1.118314  \n",
       "min       0.000000  \n",
       "25%       0.750000  \n",
       "50%       1.500000  \n",
       "75%       2.250000  \n",
       "max       3.000000  "
      ]
     },
     "execution_count": 12,
     "metadata": {},
     "output_type": "execute_result"
    }
   ],
   "source": [
    "dataset.describe()"
   ]
  },
  {
   "cell_type": "markdown",
   "id": "aa957d14",
   "metadata": {
    "papermill": {
     "duration": 0.019641,
     "end_time": "2024-05-28T11:55:13.103629",
     "exception": false,
     "start_time": "2024-05-28T11:55:13.083988",
     "status": "completed"
    },
    "tags": []
   },
   "source": [
    "## Temporal Variables(Eg: Datetime Variables)"
   ]
  },
  {
   "cell_type": "code",
   "execution_count": 13,
   "id": "64a7cca3",
   "metadata": {
    "execution": {
     "iopub.execute_input": "2024-05-28T11:55:13.145820Z",
     "iopub.status.busy": "2024-05-28T11:55:13.145381Z",
     "iopub.status.idle": "2024-05-28T11:55:13.153350Z",
     "shell.execute_reply": "2024-05-28T11:55:13.152210Z"
    },
    "papermill": {
     "duration": 0.03213,
     "end_time": "2024-05-28T11:55:13.155752",
     "exception": false,
     "start_time": "2024-05-28T11:55:13.123622",
     "status": "completed"
    },
    "tags": []
   },
   "outputs": [
    {
     "data": {
      "text/plain": [
       "[]"
      ]
     },
     "execution_count": 13,
     "metadata": {},
     "output_type": "execute_result"
    }
   ],
   "source": [
    "# list of variables that contain year information\n",
    "year_feature = [feature for feature in numerical_features if 'Yr' in feature or 'Year' in feature]\n",
    "\n",
    "year_feature"
   ]
  },
  {
   "cell_type": "markdown",
   "id": "f88914ab",
   "metadata": {
    "papermill": {
     "duration": 0.019789,
     "end_time": "2024-05-28T11:55:13.195712",
     "exception": false,
     "start_time": "2024-05-28T11:55:13.175923",
     "status": "completed"
    },
    "tags": []
   },
   "source": [
    "## Numerical variables are usually of 2 type\n",
    "## 1. Discrete Features and Continous Features"
   ]
  },
  {
   "cell_type": "code",
   "execution_count": 14,
   "id": "521ce001",
   "metadata": {
    "execution": {
     "iopub.execute_input": "2024-05-28T11:55:13.237864Z",
     "iopub.status.busy": "2024-05-28T11:55:13.237452Z",
     "iopub.status.idle": "2024-05-28T11:55:13.247417Z",
     "shell.execute_reply": "2024-05-28T11:55:13.246424Z"
    },
    "papermill": {
     "duration": 0.034241,
     "end_time": "2024-05-28T11:55:13.250038",
     "exception": false,
     "start_time": "2024-05-28T11:55:13.215797",
     "status": "completed"
    },
    "tags": []
   },
   "outputs": [
    {
     "name": "stdout",
     "output_type": "stream",
     "text": [
      "Discrete Variables Count: 14\n"
     ]
    }
   ],
   "source": [
    "## Numerical variables are usually of 2 type\n",
    "## 1. Continous variable and Discrete Variables\n",
    "\n",
    "discrete_feature=[feature for feature in numerical_features if len(dataset[feature].unique())<25 and feature not in year_feature+['Id']]\n",
    "print(\"Discrete Variables Count: {}\".format(len(discrete_feature)))"
   ]
  },
  {
   "cell_type": "code",
   "execution_count": 15,
   "id": "e7da88b8",
   "metadata": {
    "execution": {
     "iopub.execute_input": "2024-05-28T11:55:13.354228Z",
     "iopub.status.busy": "2024-05-28T11:55:13.353560Z",
     "iopub.status.idle": "2024-05-28T11:55:13.360714Z",
     "shell.execute_reply": "2024-05-28T11:55:13.359527Z"
    },
    "papermill": {
     "duration": 0.092138,
     "end_time": "2024-05-28T11:55:13.362969",
     "exception": false,
     "start_time": "2024-05-28T11:55:13.270831",
     "status": "completed"
    },
    "tags": []
   },
   "outputs": [
    {
     "data": {
      "text/plain": [
       "['blue',\n",
       " 'dual_sim',\n",
       " 'fc',\n",
       " 'four_g',\n",
       " 'm_dep',\n",
       " 'n_cores',\n",
       " 'pc',\n",
       " 'sc_h',\n",
       " 'sc_w',\n",
       " 'talk_time',\n",
       " 'three_g',\n",
       " 'touch_screen',\n",
       " 'wifi',\n",
       " 'price_range']"
      ]
     },
     "execution_count": 15,
     "metadata": {},
     "output_type": "execute_result"
    }
   ],
   "source": [
    "discrete_feature"
   ]
  },
  {
   "cell_type": "code",
   "execution_count": 16,
   "id": "a9b9b006",
   "metadata": {
    "execution": {
     "iopub.execute_input": "2024-05-28T11:55:13.406380Z",
     "iopub.status.busy": "2024-05-28T11:55:13.405926Z",
     "iopub.status.idle": "2024-05-28T11:55:13.412877Z",
     "shell.execute_reply": "2024-05-28T11:55:13.411419Z"
    },
    "papermill": {
     "duration": 0.031711,
     "end_time": "2024-05-28T11:55:13.415652",
     "exception": false,
     "start_time": "2024-05-28T11:55:13.383941",
     "status": "completed"
    },
    "tags": []
   },
   "outputs": [
    {
     "name": "stdout",
     "output_type": "stream",
     "text": [
      "Continuous feature Count 7\n"
     ]
    }
   ],
   "source": [
    "continuous_feature=[feature for feature in numerical_features if feature not in discrete_feature]\n",
    "print(\"Continuous feature Count {}\".format(len(continuous_feature)))"
   ]
  },
  {
   "cell_type": "code",
   "execution_count": 17,
   "id": "f91a52de",
   "metadata": {
    "execution": {
     "iopub.execute_input": "2024-05-28T11:55:13.458855Z",
     "iopub.status.busy": "2024-05-28T11:55:13.458422Z",
     "iopub.status.idle": "2024-05-28T11:55:15.990927Z",
     "shell.execute_reply": "2024-05-28T11:55:15.989652Z"
    },
    "papermill": {
     "duration": 2.557268,
     "end_time": "2024-05-28T11:55:15.993561",
     "exception": false,
     "start_time": "2024-05-28T11:55:13.436293",
     "status": "completed"
    },
    "tags": []
   },
   "outputs": [
    {
     "data": {
      "image/png": "[encoded data removed]",
      "text/plain": [
       "<Figure size 640x480 with 1 Axes>"
      ]
     },
     "metadata": {},
     "output_type": "display_data"
    },
    {
     "data": {
      "image/png": "[encoded data removed]",
      "text/plain": [
       "<Figure size 640x480 with 1 Axes>"
      ]
     },
     "metadata": {},
     "output_type": "display_data"
    },
    {
     "data": {
      "image/png": "[encoded data removed]",
      "text/plain": [
       "<Figure size 640x480 with 1 Axes>"
      ]
     },
     "metadata": {},
     "output_type": "display_data"
    },
    {
     "data": {
      "image/png": "[encoded data removed]",
      "text/plain": [
       "<Figure size 640x480 with 1 Axes>"
      ]
     },
     "metadata": {},
     "output_type": "display_data"
    },
    {
     "data": {
      "image/png": "[encoded data removed]",
      "text/plain": [
       "<Figure size 640x480 with 1 Axes>"
      ]
     },
     "metadata": {},
     "output_type": "display_data"
    },
    {
     "data": {
      "image/png": "[encoded data removed]",
      "text/plain": [
       "<Figure size 640x480 with 1 Axes>"
      ]
     },
     "metadata": {},
     "output_type": "display_data"
    },
    {
     "data": {
      "image/png": "[encoded data removed]",
      "text/plain": [
       "<Figure size 640x480 with 1 Axes>"
      ]
     },
     "metadata": {},
     "output_type": "display_data"
    }
   ],
   "source": [
    "## Lets analyse the continuous values by creating histograms to understand the distribution\n",
    "\n",
    "for feature in continuous_feature:\n",
    "    data=dataset.copy()\n",
    "    data[feature].hist(bins=25)\n",
    "    plt.xlabel(feature)\n",
    "    plt.ylabel(\"Count\")\n",
    "    plt.title(feature)\n",
    "    plt.show()"
   ]
  },
  {
   "cell_type": "markdown",
   "id": "a74f2107",
   "metadata": {
    "papermill": {
     "duration": 0.023411,
     "end_time": "2024-05-28T11:55:16.041281",
     "exception": false,
     "start_time": "2024-05-28T11:55:16.017870",
     "status": "completed"
    },
    "tags": []
   },
   "source": [
    "### Outliers In Numerical Feature"
   ]
  },
  {
   "cell_type": "code",
   "execution_count": 18,
   "id": "135e2142",
   "metadata": {
    "execution": {
     "iopub.execute_input": "2024-05-28T11:55:16.090338Z",
     "iopub.status.busy": "2024-05-28T11:55:16.089944Z",
     "iopub.status.idle": "2024-05-28T11:55:17.628781Z",
     "shell.execute_reply": "2024-05-28T11:55:17.627563Z"
    },
    "papermill": {
     "duration": 1.566765,
     "end_time": "2024-05-28T11:55:17.631682",
     "exception": false,
     "start_time": "2024-05-28T11:55:16.064917",
     "status": "completed"
    },
    "tags": []
   },
   "outputs": [
    {
     "data": {
      "image/png": "[encoded data removed]",
      "text/plain": [
       "<Figure size 640x480 with 1 Axes>"
      ]
     },
     "metadata": {},
     "output_type": "display_data"
    },
    {
     "data": {
      "image/png": "[encoded data removed]",
      "text/plain": [
       "<Figure size 640x480 with 1 Axes>"
      ]
     },
     "metadata": {},
     "output_type": "display_data"
    },
    {
     "data": {
      "image/png": "[encoded data removed]",
      "text/plain": [
       "<Figure size 640x480 with 1 Axes>"
      ]
     },
     "metadata": {},
     "output_type": "display_data"
    },
    {
     "data": {
      "image/png": "[encoded data removed]",
      "text/plain": [
       "<Figure size 640x480 with 1 Axes>"
      ]
     },
     "metadata": {},
     "output_type": "display_data"
    },
    {
     "data": {
      "image/png": "[encoded data removed]",
      "text/plain": [
       "<Figure size 640x480 with 1 Axes>"
      ]
     },
     "metadata": {},
     "output_type": "display_data"
    },
    {
     "data": {
      "image/png": "[encoded data removed]",
      "text/plain": [
       "<Figure size 640x480 with 1 Axes>"
      ]
     },
     "metadata": {},
     "output_type": "display_data"
    }
   ],
   "source": [
    "for feature in continuous_feature:\n",
    "    data=dataset.copy()\n",
    "    if 0 in data[feature].unique():\n",
    "        pass\n",
    "    else:\n",
    "        data[feature]=np.log(data[feature])\n",
    "        data.boxplot(column=feature)\n",
    "        plt.ylabel(feature)\n",
    "        plt.title(feature)\n",
    "        plt.show()\n",
    "        "
   ]
  },
  {
   "cell_type": "markdown",
   "id": "7f4e0d29",
   "metadata": {
    "papermill": {
     "duration": 0.025357,
     "end_time": "2024-05-28T11:55:17.684101",
     "exception": false,
     "start_time": "2024-05-28T11:55:17.658744",
     "status": "completed"
    },
    "tags": []
   },
   "source": [
    "# Feature Slection"
   ]
  },
  {
   "cell_type": "code",
   "execution_count": 19,
   "id": "f6bfe3b8",
   "metadata": {
    "execution": {
     "iopub.execute_input": "2024-05-28T11:55:17.738843Z",
     "iopub.status.busy": "2024-05-28T11:55:17.737732Z",
     "iopub.status.idle": "2024-05-28T11:55:18.275041Z",
     "shell.execute_reply": "2024-05-28T11:55:18.273715Z"
    },
    "papermill": {
     "duration": 0.567827,
     "end_time": "2024-05-28T11:55:18.278081",
     "exception": false,
     "start_time": "2024-05-28T11:55:17.710254",
     "status": "completed"
    },
    "tags": []
   },
   "outputs": [],
   "source": [
    "from sklearn.linear_model import Lasso\n",
    "from sklearn.feature_selection import SelectFromModel"
   ]
  },
  {
   "cell_type": "code",
   "execution_count": 20,
   "id": "4d975797",
   "metadata": {
    "execution": {
     "iopub.execute_input": "2024-05-28T11:55:18.332261Z",
     "iopub.status.busy": "2024-05-28T11:55:18.331846Z",
     "iopub.status.idle": "2024-05-28T11:55:18.340128Z",
     "shell.execute_reply": "2024-05-28T11:55:18.338979Z"
    },
    "papermill": {
     "duration": 0.03833,
     "end_time": "2024-05-28T11:55:18.342875",
     "exception": false,
     "start_time": "2024-05-28T11:55:18.304545",
     "status": "completed"
    },
    "tags": []
   },
   "outputs": [],
   "source": [
    "## Capture the dependent feature\n",
    "X=dataset.drop(['price_range'],axis=1)\n",
    "y=dataset[['price_range']]"
   ]
  },
  {
   "cell_type": "code",
   "execution_count": 21,
   "id": "5a1249a5",
   "metadata": {
    "execution": {
     "iopub.execute_input": "2024-05-28T11:55:18.398880Z",
     "iopub.status.busy": "2024-05-28T11:55:18.398420Z",
     "iopub.status.idle": "2024-05-28T11:55:18.405623Z",
     "shell.execute_reply": "2024-05-28T11:55:18.404693Z"
    },
    "papermill": {
     "duration": 0.037967,
     "end_time": "2024-05-28T11:55:18.407861",
     "exception": false,
     "start_time": "2024-05-28T11:55:18.369894",
     "status": "completed"
    },
    "tags": []
   },
   "outputs": [
    {
     "data": {
      "text/plain": [
       "((2000, 20), (2000, 1))"
      ]
     },
     "execution_count": 21,
     "metadata": {},
     "output_type": "execute_result"
    }
   ],
   "source": [
    "X.shape,y.shape"
   ]
  },
  {
   "cell_type": "code",
   "execution_count": 22,
   "id": "69de2a1e",
   "metadata": {
    "execution": {
     "iopub.execute_input": "2024-05-28T11:55:18.465595Z",
     "iopub.status.busy": "2024-05-28T11:55:18.464419Z",
     "iopub.status.idle": "2024-05-28T11:55:18.493002Z",
     "shell.execute_reply": "2024-05-28T11:55:18.491383Z"
    },
    "papermill": {
     "duration": 0.061674,
     "end_time": "2024-05-28T11:55:18.497342",
     "exception": false,
     "start_time": "2024-05-28T11:55:18.435668",
     "status": "completed"
    },
    "tags": []
   },
   "outputs": [
    {
     "data": {
      "text/html": [
       "<style>#sk-container-id-1 {color: black;background-color: white;}#sk-container-id-1 pre{padding: 0;}#sk-container-id-1 div.sk-toggleable {background-color: white;}#sk-container-id-1 label.sk-toggleable__label {cursor: pointer;display: block;width: 100%;margin-bottom: 0;padding: 0.3em;box-sizing: border-box;text-align: center;}#sk-container-id-1 label.sk-toggleable__label-arrow:before {content: \"▸\";float: left;margin-right: 0.25em;color: #696969;}#sk-container-id-1 label.sk-toggleable__label-arrow:hover:before {color: black;}#sk-container-id-1 div.sk-estimator:hover label.sk-toggleable__label-arrow:before {color: black;}#sk-container-id-1 div.sk-toggleable__content {max-height: 0;max-width: 0;overflow: hidden;text-align: left;background-color: #f0f8ff;}#sk-container-id-1 div.sk-toggleable__content pre {margin: 0.2em;color: black;border-radius: 0.25em;background-color: #f0f8ff;}#sk-container-id-1 input.sk-toggleable__control:checked~div.sk-toggleable__content {max-height: 200px;max-width: 100%;overflow: auto;}#sk-container-id-1 input.sk-toggleable__control:checked~label.sk-toggleable__label-arrow:before {content: \"▾\";}#sk-container-id-1 div.sk-estimator input.sk-toggleable__control:checked~label.sk-toggleable__label {background-color: #d4ebff;}#sk-container-id-1 div.sk-label input.sk-toggleable__control:checked~label.sk-toggleable__label {background-color: #d4ebff;}#sk-container-id-1 input.sk-hidden--visually {border: 0;clip: rect(1px 1px 1px 1px);clip: rect(1px, 1px, 1px, 1px);height: 1px;margin: -1px;overflow: hidden;padding: 0;position: absolute;width: 1px;}#sk-container-id-1 div.sk-estimator {font-family: monospace;background-color: #f0f8ff;border: 1px dotted black;border-radius: 0.25em;box-sizing: border-box;margin-bottom: 0.5em;}#sk-container-id-1 div.sk-estimator:hover {background-color: #d4ebff;}#sk-container-id-1 div.sk-parallel-item::after {content: \"\";width: 100%;border-bottom: 1px solid gray;flex-grow: 1;}#sk-container-id-1 div.sk-label:hover label.sk-toggleable__label {background-color: #d4ebff;}#sk-container-id-1 div.sk-serial::before {content: \"\";position: absolute;border-left: 1px solid gray;box-sizing: border-box;top: 0;bottom: 0;left: 50%;z-index: 0;}#sk-container-id-1 div.sk-serial {display: flex;flex-direction: column;align-items: center;background-color: white;padding-right: 0.2em;padding-left: 0.2em;position: relative;}#sk-container-id-1 div.sk-item {position: relative;z-index: 1;}#sk-container-id-1 div.sk-parallel {display: flex;align-items: stretch;justify-content: center;background-color: white;position: relative;}#sk-container-id-1 div.sk-item::before, #sk-container-id-1 div.sk-parallel-item::before {content: \"\";position: absolute;border-left: 1px solid gray;box-sizing: border-box;top: 0;bottom: 0;left: 50%;z-index: -1;}#sk-container-id-1 div.sk-parallel-item {display: flex;flex-direction: column;z-index: 1;position: relative;background-color: white;}#sk-container-id-1 div.sk-parallel-item:first-child::after {align-self: flex-end;width: 50%;}#sk-container-id-1 div.sk-parallel-item:last-child::after {align-self: flex-start;width: 50%;}#sk-container-id-1 div.sk-parallel-item:only-child::after {width: 0;}#sk-container-id-1 div.sk-dashed-wrapped {border: 1px dashed gray;margin: 0 0.4em 0.5em 0.4em;box-sizing: border-box;padding-bottom: 0.4em;background-color: white;}#sk-container-id-1 div.sk-label label {font-family: monospace;font-weight: bold;display: inline-block;line-height: 1.2em;}#sk-container-id-1 div.sk-label-container {text-align: center;}#sk-container-id-1 div.sk-container {/* jupyter's `normalize.less` sets `[hidden] { display: none; }` but bootstrap.min.css set `[hidden] { display: none !important; }` so we also need the `!important` here to be able to override the default hidden behavior on the sphinx rendered scikit-learn.org. See: https://github.com/scikit-learn/scikit-learn/issues/21755 */display: inline-block !important;position: relative;}#sk-container-id-1 div.sk-text-repr-fallback {display: none;}</style><div id=\"sk-container-id-1\" class=\"sk-top-container\"><div class=\"sk-text-repr-fallback\"><pre>SelectFromModel(estimator=Lasso(alpha=0.005, random_state=0))</pre><b>In a Jupyter environment, please rerun this cell to show the HTML representation or trust the notebook. <br />On GitHub, the HTML representation is unable to render, please try loading this page with nbviewer.org.</b></div><div class=\"sk-container\" hidden><div class=\"sk-item sk-dashed-wrapped\"><div class=\"sk-label-container\"><div class=\"sk-label sk-toggleable\"><input class=\"sk-toggleable__control sk-hidden--visually\" id=\"sk-estimator-id-1\" type=\"checkbox\" ><label for=\"sk-estimator-id-1\" class=\"sk-toggleable__label sk-toggleable__label-arrow\">SelectFromModel</label><div class=\"sk-toggleable__content\"><pre>SelectFromModel(estimator=Lasso(alpha=0.005, random_state=0))</pre></div></div></div><div class=\"sk-parallel\"><div class=\"sk-parallel-item\"><div class=\"sk-item\"><div class=\"sk-label-container\"><div class=\"sk-label sk-toggleable\"><input class=\"sk-toggleable__control sk-hidden--visually\" id=\"sk-estimator-id-2\" type=\"checkbox\" ><label for=\"sk-estimator-id-2\" class=\"sk-toggleable__label sk-toggleable__label-arrow\">estimator: Lasso</label><div class=\"sk-toggleable__content\"><pre>Lasso(alpha=0.005, random_state=0)</pre></div></div></div><div class=\"sk-serial\"><div class=\"sk-item\"><div class=\"sk-estimator sk-toggleable\"><input class=\"sk-toggleable__control sk-hidden--visually\" id=\"sk-estimator-id-3\" type=\"checkbox\" ><label for=\"sk-estimator-id-3\" class=\"sk-toggleable__label sk-toggleable__label-arrow\">Lasso</label><div class=\"sk-toggleable__content\"><pre>Lasso(alpha=0.005, random_state=0)</pre></div></div></div></div></div></div></div></div></div></div>"
      ],
      "text/plain": [
       "SelectFromModel(estimator=Lasso(alpha=0.005, random_state=0))"
      ]
     },
     "execution_count": 22,
     "metadata": {},
     "output_type": "execute_result"
    }
   ],
   "source": [
    "feature_sel_model = SelectFromModel(Lasso(alpha=0.005, random_state=0)) # remember to set the seed, the random state in this function\n",
    "feature_sel_model.fit(X, y)"
   ]
  },
  {
   "cell_type": "code",
   "execution_count": 23,
   "id": "4f7e2ab6",
   "metadata": {
    "execution": {
     "iopub.execute_input": "2024-05-28T11:55:18.608802Z",
     "iopub.status.busy": "2024-05-28T11:55:18.607569Z",
     "iopub.status.idle": "2024-05-28T11:55:18.615735Z",
     "shell.execute_reply": "2024-05-28T11:55:18.614547Z"
    },
    "papermill": {
     "duration": 0.062967,
     "end_time": "2024-05-28T11:55:18.618217",
     "exception": false,
     "start_time": "2024-05-28T11:55:18.555250",
     "status": "completed"
    },
    "tags": []
   },
   "outputs": [
    {
     "data": {
      "text/plain": [
       "array([ True, False,  True,  True,  True, False,  True, False,  True,\n",
       "        True,  True,  True,  True,  True,  True, False,  True, False,\n",
       "       False,  True])"
      ]
     },
     "execution_count": 23,
     "metadata": {},
     "output_type": "execute_result"
    }
   ],
   "source": [
    "feature_sel_model.get_support()"
   ]
  },
  {
   "cell_type": "code",
   "execution_count": 24,
   "id": "fa6a7005",
   "metadata": {
    "execution": {
     "iopub.execute_input": "2024-05-28T11:55:18.672445Z",
     "iopub.status.busy": "2024-05-28T11:55:18.672011Z",
     "iopub.status.idle": "2024-05-28T11:55:18.680272Z",
     "shell.execute_reply": "2024-05-28T11:55:18.678862Z"
    },
    "papermill": {
     "duration": 0.038444,
     "end_time": "2024-05-28T11:55:18.682684",
     "exception": false,
     "start_time": "2024-05-28T11:55:18.644240",
     "status": "completed"
    },
    "tags": []
   },
   "outputs": [
    {
     "name": "stdout",
     "output_type": "stream",
     "text": [
      "total features: 20\n",
      "selected features: 14\n",
      "features with coefficients shrank to zero: 6\n"
     ]
    }
   ],
   "source": [
    "# let's print the number of total and selected features\n",
    "\n",
    "# this is how we can make a list of the selected features\n",
    "selected_feat = X.columns[(feature_sel_model.get_support())]\n",
    "\n",
    "# let's print some stats\n",
    "print('total features: {}'.format((X.shape[1])))\n",
    "print('selected features: {}'.format(len(selected_feat)))\n",
    "print('features with coefficients shrank to zero: {}'.format(\n",
    "    np.sum(feature_sel_model.estimator_.coef_ == 0)))"
   ]
  },
  {
   "cell_type": "code",
   "execution_count": 25,
   "id": "2d27ad1d",
   "metadata": {
    "execution": {
     "iopub.execute_input": "2024-05-28T11:55:18.738143Z",
     "iopub.status.busy": "2024-05-28T11:55:18.737510Z",
     "iopub.status.idle": "2024-05-28T11:55:18.744668Z",
     "shell.execute_reply": "2024-05-28T11:55:18.743483Z"
    },
    "papermill": {
     "duration": 0.037884,
     "end_time": "2024-05-28T11:55:18.747241",
     "exception": false,
     "start_time": "2024-05-28T11:55:18.709357",
     "status": "completed"
    },
    "tags": []
   },
   "outputs": [
    {
     "data": {
      "text/plain": [
       "Index(['battery_power', 'clock_speed', 'dual_sim', 'fc', 'int_memory',\n",
       "       'mobile_wt', 'n_cores', 'pc', 'px_height', 'px_width', 'ram', 'sc_h',\n",
       "       'talk_time', 'wifi'],\n",
       "      dtype='object')"
      ]
     },
     "execution_count": 25,
     "metadata": {},
     "output_type": "execute_result"
    }
   ],
   "source": [
    "selected_feat"
   ]
  },
  {
   "cell_type": "code",
   "execution_count": 26,
   "id": "8ca5c6fa",
   "metadata": {
    "execution": {
     "iopub.execute_input": "2024-05-28T11:55:18.804875Z",
     "iopub.status.busy": "2024-05-28T11:55:18.804175Z",
     "iopub.status.idle": "2024-05-28T11:55:18.810948Z",
     "shell.execute_reply": "2024-05-28T11:55:18.809822Z"
    },
    "papermill": {
     "duration": 0.039419,
     "end_time": "2024-05-28T11:55:18.813519",
     "exception": false,
     "start_time": "2024-05-28T11:55:18.774100",
     "status": "completed"
    },
    "tags": []
   },
   "outputs": [],
   "source": [
    "X=X[selected_feat]"
   ]
  },
  {
   "cell_type": "code",
   "execution_count": 27,
   "id": "ae2ce2b2",
   "metadata": {
    "execution": {
     "iopub.execute_input": "2024-05-28T11:55:18.870378Z",
     "iopub.status.busy": "2024-05-28T11:55:18.869605Z",
     "iopub.status.idle": "2024-05-28T11:55:19.008531Z",
     "shell.execute_reply": "2024-05-28T11:55:19.006979Z"
    },
    "papermill": {
     "duration": 0.170769,
     "end_time": "2024-05-28T11:55:19.011650",
     "exception": false,
     "start_time": "2024-05-28T11:55:18.840881",
     "status": "completed"
    },
    "tags": []
   },
   "outputs": [
    {
     "data": {
      "text/html": [
       "<div>\n",
       "<style scoped>\n",
       "    .dataframe tbody tr th:only-of-type {\n",
       "        vertical-align: middle;\n",
       "    }\n",
       "\n",
       "    .dataframe tbody tr th {\n",
       "        vertical-align: top;\n",
       "    }\n",
       "\n",
       "    .dataframe thead th {\n",
       "        text-align: right;\n",
       "    }\n",
       "</style>\n",
       "<table border=\"1\" class=\"dataframe\">\n",
       "  <thead>\n",
       "    <tr style=\"text-align: right;\">\n",
       "      <th></th>\n",
       "      <th>battery_power</th>\n",
       "      <th>clock_speed</th>\n",
       "      <th>dual_sim</th>\n",
       "      <th>fc</th>\n",
       "      <th>int_memory</th>\n",
       "      <th>mobile_wt</th>\n",
       "      <th>n_cores</th>\n",
       "      <th>pc</th>\n",
       "      <th>px_height</th>\n",
       "      <th>px_width</th>\n",
       "      <th>ram</th>\n",
       "      <th>sc_h</th>\n",
       "      <th>talk_time</th>\n",
       "      <th>wifi</th>\n",
       "    </tr>\n",
       "  </thead>\n",
       "  <tbody>\n",
       "    <tr>\n",
       "      <th>0</th>\n",
       "      <td>842</td>\n",
       "      <td>2.2</td>\n",
       "      <td>0</td>\n",
       "      <td>1</td>\n",
       "      <td>7</td>\n",
       "      <td>188</td>\n",
       "      <td>2</td>\n",
       "      <td>2</td>\n",
       "      <td>20</td>\n",
       "      <td>756</td>\n",
       "      <td>2549</td>\n",
       "      <td>9</td>\n",
       "      <td>19</td>\n",
       "      <td>1</td>\n",
       "    </tr>\n",
       "    <tr>\n",
       "      <th>1</th>\n",
       "      <td>1021</td>\n",
       "      <td>0.5</td>\n",
       "      <td>1</td>\n",
       "      <td>0</td>\n",
       "      <td>53</td>\n",
       "      <td>136</td>\n",
       "      <td>3</td>\n",
       "      <td>6</td>\n",
       "      <td>905</td>\n",
       "      <td>1988</td>\n",
       "      <td>2631</td>\n",
       "      <td>17</td>\n",
       "      <td>7</td>\n",
       "      <td>0</td>\n",
       "    </tr>\n",
       "    <tr>\n",
       "      <th>2</th>\n",
       "      <td>563</td>\n",
       "      <td>0.5</td>\n",
       "      <td>1</td>\n",
       "      <td>2</td>\n",
       "      <td>41</td>\n",
       "      <td>145</td>\n",
       "      <td>5</td>\n",
       "      <td>6</td>\n",
       "      <td>1263</td>\n",
       "      <td>1716</td>\n",
       "      <td>2603</td>\n",
       "      <td>11</td>\n",
       "      <td>9</td>\n",
       "      <td>0</td>\n",
       "    </tr>\n",
       "    <tr>\n",
       "      <th>3</th>\n",
       "      <td>615</td>\n",
       "      <td>2.5</td>\n",
       "      <td>0</td>\n",
       "      <td>0</td>\n",
       "      <td>10</td>\n",
       "      <td>131</td>\n",
       "      <td>6</td>\n",
       "      <td>9</td>\n",
       "      <td>1216</td>\n",
       "      <td>1786</td>\n",
       "      <td>2769</td>\n",
       "      <td>16</td>\n",
       "      <td>11</td>\n",
       "      <td>0</td>\n",
       "    </tr>\n",
       "    <tr>\n",
       "      <th>4</th>\n",
       "      <td>1821</td>\n",
       "      <td>1.2</td>\n",
       "      <td>0</td>\n",
       "      <td>13</td>\n",
       "      <td>44</td>\n",
       "      <td>141</td>\n",
       "      <td>2</td>\n",
       "      <td>14</td>\n",
       "      <td>1208</td>\n",
       "      <td>1212</td>\n",
       "      <td>1411</td>\n",
       "      <td>8</td>\n",
       "      <td>15</td>\n",
       "      <td>0</td>\n",
       "    </tr>\n",
       "  </tbody>\n",
       "</table>\n",
       "</div>"
      ],
      "text/plain": [
       "   battery_power  clock_speed  dual_sim  fc  int_memory  mobile_wt  n_cores  \\\n",
       "0            842          2.2         0   1           7        188        2   \n",
       "1           1021          0.5         1   0          53        136        3   \n",
       "2            563          0.5         1   2          41        145        5   \n",
       "3            615          2.5         0   0          10        131        6   \n",
       "4           1821          1.2         0  13          44        141        2   \n",
       "\n",
       "   pc  px_height  px_width   ram  sc_h  talk_time  wifi  \n",
       "0   2         20       756  2549     9         19     1  \n",
       "1   6        905      1988  2631    17          7     0  \n",
       "2   6       1263      1716  2603    11          9     0  \n",
       "3   9       1216      1786  2769    16         11     0  \n",
       "4  14       1208      1212  1411     8         15     0  "
      ]
     },
     "execution_count": 27,
     "metadata": {},
     "output_type": "execute_result"
    }
   ],
   "source": [
    "X.head()"
   ]
  },
  {
   "cell_type": "code",
   "execution_count": 28,
   "id": "7d7fa9f0",
   "metadata": {
    "execution": {
     "iopub.execute_input": "2024-05-28T11:55:19.069685Z",
     "iopub.status.busy": "2024-05-28T11:55:19.069251Z",
     "iopub.status.idle": "2024-05-28T11:55:19.610276Z",
     "shell.execute_reply": "2024-05-28T11:55:19.607436Z"
    },
    "papermill": {
     "duration": 0.572754,
     "end_time": "2024-05-28T11:55:19.613097",
     "exception": false,
     "start_time": "2024-05-28T11:55:19.040343",
     "status": "completed"
    },
    "tags": []
   },
   "outputs": [
    {
     "data": {
      "text/plain": [
       "<Axes: >"
      ]
     },
     "execution_count": 28,
     "metadata": {},
     "output_type": "execute_result"
    },
    {
     "data": {
      "image/png": "[encoded data removed]",
      "text/plain": [
       "<Figure size 640x480 with 2 Axes>"
      ]
     },
     "metadata": {},
     "output_type": "display_data"
    }
   ],
   "source": [
    "sns.heatmap(X.corr())"
   ]
  },
  {
   "cell_type": "code",
   "execution_count": 29,
   "id": "92c93ea4",
   "metadata": {
    "execution": {
     "iopub.execute_input": "2024-05-28T11:55:19.670781Z",
     "iopub.status.busy": "2024-05-28T11:55:19.670339Z",
     "iopub.status.idle": "2024-05-28T11:55:19.687800Z",
     "shell.execute_reply": "2024-05-28T11:55:19.686558Z"
    },
    "papermill": {
     "duration": 0.049357,
     "end_time": "2024-05-28T11:55:19.690282",
     "exception": false,
     "start_time": "2024-05-28T11:55:19.640925",
     "status": "completed"
    },
    "tags": []
   },
   "outputs": [
    {
     "data": {
      "text/html": [
       "<div>\n",
       "<style scoped>\n",
       "    .dataframe tbody tr th:only-of-type {\n",
       "        vertical-align: middle;\n",
       "    }\n",
       "\n",
       "    .dataframe tbody tr th {\n",
       "        vertical-align: top;\n",
       "    }\n",
       "\n",
       "    .dataframe thead th {\n",
       "        text-align: right;\n",
       "    }\n",
       "</style>\n",
       "<table border=\"1\" class=\"dataframe\">\n",
       "  <thead>\n",
       "    <tr style=\"text-align: right;\">\n",
       "      <th></th>\n",
       "      <th>battery_power</th>\n",
       "      <th>clock_speed</th>\n",
       "      <th>dual_sim</th>\n",
       "      <th>fc</th>\n",
       "      <th>int_memory</th>\n",
       "      <th>mobile_wt</th>\n",
       "      <th>n_cores</th>\n",
       "      <th>pc</th>\n",
       "      <th>px_height</th>\n",
       "      <th>px_width</th>\n",
       "      <th>ram</th>\n",
       "      <th>sc_h</th>\n",
       "      <th>talk_time</th>\n",
       "      <th>wifi</th>\n",
       "    </tr>\n",
       "  </thead>\n",
       "  <tbody>\n",
       "    <tr>\n",
       "      <th>0</th>\n",
       "      <td>842</td>\n",
       "      <td>2.2</td>\n",
       "      <td>0</td>\n",
       "      <td>1</td>\n",
       "      <td>7</td>\n",
       "      <td>188</td>\n",
       "      <td>2</td>\n",
       "      <td>2</td>\n",
       "      <td>20</td>\n",
       "      <td>756</td>\n",
       "      <td>2549</td>\n",
       "      <td>9</td>\n",
       "      <td>19</td>\n",
       "      <td>1</td>\n",
       "    </tr>\n",
       "    <tr>\n",
       "      <th>1</th>\n",
       "      <td>1021</td>\n",
       "      <td>0.5</td>\n",
       "      <td>1</td>\n",
       "      <td>0</td>\n",
       "      <td>53</td>\n",
       "      <td>136</td>\n",
       "      <td>3</td>\n",
       "      <td>6</td>\n",
       "      <td>905</td>\n",
       "      <td>1988</td>\n",
       "      <td>2631</td>\n",
       "      <td>17</td>\n",
       "      <td>7</td>\n",
       "      <td>0</td>\n",
       "    </tr>\n",
       "    <tr>\n",
       "      <th>2</th>\n",
       "      <td>563</td>\n",
       "      <td>0.5</td>\n",
       "      <td>1</td>\n",
       "      <td>2</td>\n",
       "      <td>41</td>\n",
       "      <td>145</td>\n",
       "      <td>5</td>\n",
       "      <td>6</td>\n",
       "      <td>1263</td>\n",
       "      <td>1716</td>\n",
       "      <td>2603</td>\n",
       "      <td>11</td>\n",
       "      <td>9</td>\n",
       "      <td>0</td>\n",
       "    </tr>\n",
       "    <tr>\n",
       "      <th>3</th>\n",
       "      <td>615</td>\n",
       "      <td>2.5</td>\n",
       "      <td>0</td>\n",
       "      <td>0</td>\n",
       "      <td>10</td>\n",
       "      <td>131</td>\n",
       "      <td>6</td>\n",
       "      <td>9</td>\n",
       "      <td>1216</td>\n",
       "      <td>1786</td>\n",
       "      <td>2769</td>\n",
       "      <td>16</td>\n",
       "      <td>11</td>\n",
       "      <td>0</td>\n",
       "    </tr>\n",
       "    <tr>\n",
       "      <th>4</th>\n",
       "      <td>1821</td>\n",
       "      <td>1.2</td>\n",
       "      <td>0</td>\n",
       "      <td>13</td>\n",
       "      <td>44</td>\n",
       "      <td>141</td>\n",
       "      <td>2</td>\n",
       "      <td>14</td>\n",
       "      <td>1208</td>\n",
       "      <td>1212</td>\n",
       "      <td>1411</td>\n",
       "      <td>8</td>\n",
       "      <td>15</td>\n",
       "      <td>0</td>\n",
       "    </tr>\n",
       "  </tbody>\n",
       "</table>\n",
       "</div>"
      ],
      "text/plain": [
       "   battery_power  clock_speed  dual_sim  fc  int_memory  mobile_wt  n_cores  \\\n",
       "0            842          2.2         0   1           7        188        2   \n",
       "1           1021          0.5         1   0          53        136        3   \n",
       "2            563          0.5         1   2          41        145        5   \n",
       "3            615          2.5         0   0          10        131        6   \n",
       "4           1821          1.2         0  13          44        141        2   \n",
       "\n",
       "   pc  px_height  px_width   ram  sc_h  talk_time  wifi  \n",
       "0   2         20       756  2549     9         19     1  \n",
       "1   6        905      1988  2631    17          7     0  \n",
       "2   6       1263      1716  2603    11          9     0  \n",
       "3   9       1216      1786  2769    16         11     0  \n",
       "4  14       1208      1212  1411     8         15     0  "
      ]
     },
     "execution_count": 29,
     "metadata": {},
     "output_type": "execute_result"
    }
   ],
   "source": [
    "X.head()"
   ]
  },
  {
   "cell_type": "markdown",
   "id": "6f5b4a6e",
   "metadata": {
    "papermill": {
     "duration": 0.028827,
     "end_time": "2024-05-28T11:55:19.747250",
     "exception": false,
     "start_time": "2024-05-28T11:55:19.718423",
     "status": "completed"
    },
    "tags": []
   },
   "source": [
    "# Model Building"
   ]
  },
  {
   "cell_type": "code",
   "execution_count": 30,
   "id": "9213801e",
   "metadata": {
    "execution": {
     "iopub.execute_input": "2024-05-28T11:55:19.807422Z",
     "iopub.status.busy": "2024-05-28T11:55:19.807016Z",
     "iopub.status.idle": "2024-05-28T11:55:19.817209Z",
     "shell.execute_reply": "2024-05-28T11:55:19.815891Z"
    },
    "papermill": {
     "duration": 0.04492,
     "end_time": "2024-05-28T11:55:19.820073",
     "exception": false,
     "start_time": "2024-05-28T11:55:19.775153",
     "status": "completed"
    },
    "tags": []
   },
   "outputs": [],
   "source": [
    "from sklearn.model_selection import train_test_split\n",
    "X_train, X_test, y_train, y_test = train_test_split(X, y, test_size = 0.30)"
   ]
  },
  {
   "cell_type": "code",
   "execution_count": 31,
   "id": "049cd8b3",
   "metadata": {
    "execution": {
     "iopub.execute_input": "2024-05-28T11:55:19.878571Z",
     "iopub.status.busy": "2024-05-28T11:55:19.878127Z",
     "iopub.status.idle": "2024-05-28T11:55:20.470045Z",
     "shell.execute_reply": "2024-05-28T11:55:20.468851Z"
    },
    "papermill": {
     "duration": 0.624914,
     "end_time": "2024-05-28T11:55:20.472956",
     "exception": false,
     "start_time": "2024-05-28T11:55:19.848042",
     "status": "completed"
    },
    "tags": []
   },
   "outputs": [
    {
     "name": "stderr",
     "output_type": "stream",
     "text": [
      "/tmp/ipykernel_18/324425438.py:3: DataConversionWarning: A column-vector y was passed when a 1d array was expected. Please change the shape of y to (n_samples,), for example using ravel().\n",
      "  clf.fit(X_train, y_train)\n"
     ]
    },
    {
     "data": {
      "text/html": [
       "<style>#sk-container-id-2 {color: black;background-color: white;}#sk-container-id-2 pre{padding: 0;}#sk-container-id-2 div.sk-toggleable {background-color: white;}#sk-container-id-2 label.sk-toggleable__label {cursor: pointer;display: block;width: 100%;margin-bottom: 0;padding: 0.3em;box-sizing: border-box;text-align: center;}#sk-container-id-2 label.sk-toggleable__label-arrow:before {content: \"▸\";float: left;margin-right: 0.25em;color: #696969;}#sk-container-id-2 label.sk-toggleable__label-arrow:hover:before {color: black;}#sk-container-id-2 div.sk-estimator:hover label.sk-toggleable__label-arrow:before {color: black;}#sk-container-id-2 div.sk-toggleable__content {max-height: 0;max-width: 0;overflow: hidden;text-align: left;background-color: #f0f8ff;}#sk-container-id-2 div.sk-toggleable__content pre {margin: 0.2em;color: black;border-radius: 0.25em;background-color: #f0f8ff;}#sk-container-id-2 input.sk-toggleable__control:checked~div.sk-toggleable__content {max-height: 200px;max-width: 100%;overflow: auto;}#sk-container-id-2 input.sk-toggleable__control:checked~label.sk-toggleable__label-arrow:before {content: \"▾\";}#sk-container-id-2 div.sk-estimator input.sk-toggleable__control:checked~label.sk-toggleable__label {background-color: #d4ebff;}#sk-container-id-2 div.sk-label input.sk-toggleable__control:checked~label.sk-toggleable__label {background-color: #d4ebff;}#sk-container-id-2 input.sk-hidden--visually {border: 0;clip: rect(1px 1px 1px 1px);clip: rect(1px, 1px, 1px, 1px);height: 1px;margin: -1px;overflow: hidden;padding: 0;position: absolute;width: 1px;}#sk-container-id-2 div.sk-estimator {font-family: monospace;background-color: #f0f8ff;border: 1px dotted black;border-radius: 0.25em;box-sizing: border-box;margin-bottom: 0.5em;}#sk-container-id-2 div.sk-estimator:hover {background-color: #d4ebff;}#sk-container-id-2 div.sk-parallel-item::after {content: \"\";width: 100%;border-bottom: 1px solid gray;flex-grow: 1;}#sk-container-id-2 div.sk-label:hover label.sk-toggleable__label {background-color: #d4ebff;}#sk-container-id-2 div.sk-serial::before {content: \"\";position: absolute;border-left: 1px solid gray;box-sizing: border-box;top: 0;bottom: 0;left: 50%;z-index: 0;}#sk-container-id-2 div.sk-serial {display: flex;flex-direction: column;align-items: center;background-color: white;padding-right: 0.2em;padding-left: 0.2em;position: relative;}#sk-container-id-2 div.sk-item {position: relative;z-index: 1;}#sk-container-id-2 div.sk-parallel {display: flex;align-items: stretch;justify-content: center;background-color: white;position: relative;}#sk-container-id-2 div.sk-item::before, #sk-container-id-2 div.sk-parallel-item::before {content: \"\";position: absolute;border-left: 1px solid gray;box-sizing: border-box;top: 0;bottom: 0;left: 50%;z-index: -1;}#sk-container-id-2 div.sk-parallel-item {display: flex;flex-direction: column;z-index: 1;position: relative;background-color: white;}#sk-container-id-2 div.sk-parallel-item:first-child::after {align-self: flex-end;width: 50%;}#sk-container-id-2 div.sk-parallel-item:last-child::after {align-self: flex-start;width: 50%;}#sk-container-id-2 div.sk-parallel-item:only-child::after {width: 0;}#sk-container-id-2 div.sk-dashed-wrapped {border: 1px dashed gray;margin: 0 0.4em 0.5em 0.4em;box-sizing: border-box;padding-bottom: 0.4em;background-color: white;}#sk-container-id-2 div.sk-label label {font-family: monospace;font-weight: bold;display: inline-block;line-height: 1.2em;}#sk-container-id-2 div.sk-label-container {text-align: center;}#sk-container-id-2 div.sk-container {/* jupyter's `normalize.less` sets `[hidden] { display: none; }` but bootstrap.min.css set `[hidden] { display: none !important; }` so we also need the `!important` here to be able to override the default hidden behavior on the sphinx rendered scikit-learn.org. See: https://github.com/scikit-learn/scikit-learn/issues/21755 */display: inline-block !important;position: relative;}#sk-container-id-2 div.sk-text-repr-fallback {display: none;}</style><div id=\"sk-container-id-2\" class=\"sk-top-container\"><div class=\"sk-text-repr-fallback\"><pre>RandomForestClassifier()</pre><b>In a Jupyter environment, please rerun this cell to show the HTML representation or trust the notebook. <br />On GitHub, the HTML representation is unable to render, please try loading this page with nbviewer.org.</b></div><div class=\"sk-container\" hidden><div class=\"sk-item\"><div class=\"sk-estimator sk-toggleable\"><input class=\"sk-toggleable__control sk-hidden--visually\" id=\"sk-estimator-id-4\" type=\"checkbox\" checked><label for=\"sk-estimator-id-4\" class=\"sk-toggleable__label sk-toggleable__label-arrow\">RandomForestClassifier</label><div class=\"sk-toggleable__content\"><pre>RandomForestClassifier()</pre></div></div></div></div></div>"
      ],
      "text/plain": [
       "RandomForestClassifier()"
      ]
     },
     "execution_count": 31,
     "metadata": {},
     "output_type": "execute_result"
    }
   ],
   "source": [
    "from sklearn.ensemble import RandomForestClassifier\n",
    "clf = RandomForestClassifier(n_estimators = 100) \n",
    "clf.fit(X_train, y_train)"
   ]
  },
  {
   "cell_type": "code",
   "execution_count": 32,
   "id": "f767b0c3",
   "metadata": {
    "execution": {
     "iopub.execute_input": "2024-05-28T11:55:20.535342Z",
     "iopub.status.busy": "2024-05-28T11:55:20.534938Z",
     "iopub.status.idle": "2024-05-28T11:55:20.561021Z",
     "shell.execute_reply": "2024-05-28T11:55:20.560030Z"
    },
    "papermill": {
     "duration": 0.059839,
     "end_time": "2024-05-28T11:55:20.563730",
     "exception": false,
     "start_time": "2024-05-28T11:55:20.503891",
     "status": "completed"
    },
    "tags": []
   },
   "outputs": [],
   "source": [
    "# performing predictions on the test dataset\n",
    "y_pred = clf.predict(X_test)"
   ]
  },
  {
   "cell_type": "code",
   "execution_count": 33,
   "id": "90ea79fd",
   "metadata": {
    "execution": {
     "iopub.execute_input": "2024-05-28T11:55:20.623330Z",
     "iopub.status.busy": "2024-05-28T11:55:20.622922Z",
     "iopub.status.idle": "2024-05-28T11:55:20.632207Z",
     "shell.execute_reply": "2024-05-28T11:55:20.631315Z"
    },
    "papermill": {
     "duration": 0.04172,
     "end_time": "2024-05-28T11:55:20.634334",
     "exception": false,
     "start_time": "2024-05-28T11:55:20.592614",
     "status": "completed"
    },
    "tags": []
   },
   "outputs": [
    {
     "name": "stdout",
     "output_type": "stream",
     "text": [
      "ACCURACY OF THE MODEL: 0.8816666666666667\n"
     ]
    }
   ],
   "source": [
    "# using metrics module for accuracy calculation\n",
    "from sklearn import metrics \n",
    "print(\"ACCURACY OF THE MODEL:\", metrics.accuracy_score(y_test, y_pred))"
   ]
  },
  {
   "cell_type": "code",
   "execution_count": 34,
   "id": "6e7c29c0",
   "metadata": {
    "execution": {
     "iopub.execute_input": "2024-05-28T11:55:20.693902Z",
     "iopub.status.busy": "2024-05-28T11:55:20.693245Z",
     "iopub.status.idle": "2024-05-28T11:55:21.188938Z",
     "shell.execute_reply": "2024-05-28T11:55:21.187779Z"
    },
    "papermill": {
     "duration": 0.528486,
     "end_time": "2024-05-28T11:55:21.191581",
     "exception": false,
     "start_time": "2024-05-28T11:55:20.663095",
     "status": "completed"
    },
    "tags": []
   },
   "outputs": [],
   "source": [
    "from sklearn.ensemble import RandomForestClassifier\n",
    "from sklearn.tree import DecisionTreeClassifier\n",
    "from catboost import CatBoostClassifier \n",
    "from sklearn.ensemble import AdaBoostClassifier\n",
    "from sklearn.ensemble import GradientBoostingClassifier\n",
    "import xgboost as xgb\n",
    "from sklearn.metrics import (accuracy_score,classification_report,confusion_matrix,\n",
    "                             precision_score,recall_score,f1_score,roc_auc_score,mean_squared_error,mean_absolute_error,r2_score)"
   ]
  },
  {
   "cell_type": "code",
   "execution_count": 35,
   "id": "bf9ab17f",
   "metadata": {
    "execution": {
     "iopub.execute_input": "2024-05-28T11:55:21.253384Z",
     "iopub.status.busy": "2024-05-28T11:55:21.252137Z",
     "iopub.status.idle": "2024-05-28T11:55:21.262518Z",
     "shell.execute_reply": "2024-05-28T11:55:21.261544Z"
    },
    "papermill": {
     "duration": 0.044626,
     "end_time": "2024-05-28T11:55:21.265296",
     "exception": false,
     "start_time": "2024-05-28T11:55:21.220670",
     "status": "completed"
    },
    "tags": []
   },
   "outputs": [],
   "source": [
    "models={\n",
    "    \"Decison Tree\":DecisionTreeClassifier(),\n",
    "    \"Random Forest\":RandomForestClassifier(),\n",
    "    \"XGBoost\":xgb.XGBClassifier(objective=\"binary:logistic\", random_state=42),\n",
    "    \"GradientBoost\":GradientBoostingClassifier(n_estimators=100, learning_rate=1.0,max_depth=1, random_state=0),\n",
    "    \"AdaBoost\":AdaBoostClassifier(n_estimators=100, random_state=0),\n",
    "    \"CatBoost\":CatBoostClassifier(learning_rate= 0.1, depth=6, l2_leaf_reg= 3, iterations= 100)\n",
    "    \n",
    "}"
   ]
  },
  {
   "cell_type": "code",
   "execution_count": 36,
   "id": "24cfb341",
   "metadata": {
    "collapsed": true,
    "execution": {
     "iopub.execute_input": "2024-05-28T11:55:21.325942Z",
     "iopub.status.busy": "2024-05-28T11:55:21.324191Z",
     "iopub.status.idle": "2024-05-28T11:56:11.939155Z",
     "shell.execute_reply": "2024-05-28T11:56:11.937593Z"
    },
    "jupyter": {
     "outputs_hidden": true
    },
    "papermill": {
     "duration": 50.648164,
     "end_time": "2024-05-28T11:56:11.941933",
     "exception": false,
     "start_time": "2024-05-28T11:55:21.293769",
     "status": "completed"
    },
    "tags": []
   },
   "outputs": [
    {
     "name": "stdout",
     "output_type": "stream",
     "text": [
      "Collecting dagshub\r\n",
      "  Downloading dagshub-0.3.27-py3-none-any.whl.metadata (11 kB)\r\n",
      "Requirement already satisfied: PyYAML>=5 in /opt/conda/lib/python3.10/site-packages (from dagshub) (6.0.1)\r\n",
      "Collecting fusepy>=3 (from dagshub)\r\n",
      "  Downloading fusepy-3.0.1.tar.gz (11 kB)\r\n",
      "  Preparing metadata (setup.py) ... \u001b[?25l-\b \bdone\r\n",
      "\u001b[?25hRequirement already satisfied: appdirs>=1.4.4 in /opt/conda/lib/python3.10/site-packages (from dagshub) (1.4.4)\r\n",
      "Requirement already satisfied: click>=8.0.4 in /opt/conda/lib/python3.10/site-packages (from dagshub) (8.1.7)\r\n",
      "Collecting httpx~=0.23.0 (from dagshub)\r\n",
      "  Downloading httpx-0.23.3-py3-none-any.whl.metadata (7.1 kB)\r\n",
      "Requirement already satisfied: GitPython>=3.1.29 in /opt/conda/lib/python3.10/site-packages (from dagshub) (3.1.41)\r\n",
      "Collecting rich~=13.1.0 (from dagshub)\r\n",
      "  Downloading rich-13.1.0-py3-none-any.whl.metadata (18 kB)\r\n",
      "Collecting dacite~=1.6.0 (from dagshub)\r\n",
      "  Downloading dacite-1.6.0-py3-none-any.whl.metadata (14 kB)\r\n",
      "Requirement already satisfied: tenacity~=8.2.2 in /opt/conda/lib/python3.10/site-packages (from dagshub) (8.2.3)\r\n",
      "Collecting gql[requests] (from dagshub)\r\n",
      "  Downloading gql-3.5.0-py2.py3-none-any.whl.metadata (9.2 kB)\r\n",
      "Requirement already satisfied: dataclasses-json in /opt/conda/lib/python3.10/site-packages (from dagshub) (0.6.4)\r\n",
      "Requirement already satisfied: pandas in /opt/conda/lib/python3.10/site-packages (from dagshub) (2.2.2)\r\n",
      "Collecting treelib~=1.6.4 (from dagshub)\r\n",
      "  Downloading treelib-1.6.4-py3-none-any.whl.metadata (1.4 kB)\r\n",
      "Collecting pathvalidate~=3.0.0 (from dagshub)\r\n",
      "  Downloading pathvalidate-3.0.0-py3-none-any.whl.metadata (11 kB)\r\n",
      "Requirement already satisfied: python-dateutil in /opt/conda/lib/python3.10/site-packages (from dagshub) (2.9.0.post0)\r\n",
      "Requirement already satisfied: boto3 in /opt/conda/lib/python3.10/site-packages (from dagshub) (1.26.100)\r\n",
      "Requirement already satisfied: gitdb<5,>=4.0.1 in /opt/conda/lib/python3.10/site-packages (from GitPython>=3.1.29->dagshub) (4.0.11)\r\n",
      "Requirement already satisfied: certifi in /opt/conda/lib/python3.10/site-packages (from httpx~=0.23.0->dagshub) (2024.2.2)\r\n",
      "Collecting httpcore<0.17.0,>=0.15.0 (from httpx~=0.23.0->dagshub)\r\n",
      "  Downloading httpcore-0.16.3-py3-none-any.whl.metadata (16 kB)\r\n",
      "Collecting rfc3986<2,>=1.3 (from rfc3986[idna2008]<2,>=1.3->httpx~=0.23.0->dagshub)\r\n",
      "  Downloading rfc3986-1.5.0-py2.py3-none-any.whl.metadata (6.5 kB)\r\n",
      "Requirement already satisfied: sniffio in /opt/conda/lib/python3.10/site-packages (from httpx~=0.23.0->dagshub) (1.3.0)\r\n",
      "Collecting commonmark<0.10.0,>=0.9.0 (from rich~=13.1.0->dagshub)\r\n",
      "  Downloading commonmark-0.9.1-py2.py3-none-any.whl.metadata (5.7 kB)\r\n",
      "Requirement already satisfied: pygments<3.0.0,>=2.6.0 in /opt/conda/lib/python3.10/site-packages (from rich~=13.1.0->dagshub) (2.17.2)\r\n",
      "Requirement already satisfied: six in /opt/conda/lib/python3.10/site-packages (from treelib~=1.6.4->dagshub) (1.16.0)\r\n",
      "Collecting botocore<1.30.0,>=1.29.100 (from boto3->dagshub)\r\n",
      "  Downloading botocore-1.29.165-py3-none-any.whl.metadata (5.9 kB)\r\n",
      "Requirement already satisfied: jmespath<2.0.0,>=0.7.1 in /opt/conda/lib/python3.10/site-packages (from boto3->dagshub) (1.0.1)\r\n",
      "Requirement already satisfied: s3transfer<0.7.0,>=0.6.0 in /opt/conda/lib/python3.10/site-packages (from boto3->dagshub) (0.6.2)\r\n",
      "Requirement already satisfied: marshmallow<4.0.0,>=3.18.0 in /opt/conda/lib/python3.10/site-packages (from dataclasses-json->dagshub) (3.21.1)\r\n",
      "Requirement already satisfied: typing-inspect<1,>=0.4.0 in /opt/conda/lib/python3.10/site-packages (from dataclasses-json->dagshub) (0.9.0)\r\n",
      "Collecting graphql-core<3.3,>=3.2 (from gql[requests]->dagshub)\r\n",
      "  Downloading graphql_core-3.2.3-py3-none-any.whl.metadata (10 kB)\r\n",
      "Requirement already satisfied: yarl<2.0,>=1.6 in /opt/conda/lib/python3.10/site-packages (from gql[requests]->dagshub) (1.9.3)\r\n",
      "Requirement already satisfied: backoff<3.0,>=1.11.1 in /opt/conda/lib/python3.10/site-packages (from gql[requests]->dagshub) (2.2.1)\r\n",
      "Requirement already satisfied: anyio<5,>=3.0 in /opt/conda/lib/python3.10/site-packages (from gql[requests]->dagshub) (4.2.0)\r\n",
      "Requirement already satisfied: requests<3,>=2.26 in /opt/conda/lib/python3.10/site-packages (from gql[requests]->dagshub) (2.31.0)\r\n",
      "Collecting requests-toolbelt<2,>=1.0.0 (from gql[requests]->dagshub)\r\n",
      "  Downloading requests_toolbelt-1.0.0-py2.py3-none-any.whl.metadata (14 kB)\r\n",
      "Requirement already satisfied: numpy>=1.22.4 in /opt/conda/lib/python3.10/site-packages (from pandas->dagshub) (1.26.4)\r\n",
      "Requirement already satisfied: pytz>=2020.1 in /opt/conda/lib/python3.10/site-packages (from pandas->dagshub) (2023.3.post1)\r\n",
      "Requirement already satisfied: tzdata>=2022.7 in /opt/conda/lib/python3.10/site-packages (from pandas->dagshub) (2023.4)\r\n",
      "Requirement already satisfied: idna>=2.8 in /opt/conda/lib/python3.10/site-packages (from anyio<5,>=3.0->gql[requests]->dagshub) (3.6)\r\n",
      "Requirement already satisfied: exceptiongroup>=1.0.2 in /opt/conda/lib/python3.10/site-packages (from anyio<5,>=3.0->gql[requests]->dagshub) (1.2.0)\r\n",
      "Requirement already satisfied: typing-extensions>=4.1 in /opt/conda/lib/python3.10/site-packages (from anyio<5,>=3.0->gql[requests]->dagshub) (4.9.0)\r\n",
      "Requirement already satisfied: urllib3<1.27,>=1.25.4 in /opt/conda/lib/python3.10/site-packages (from botocore<1.30.0,>=1.29.100->boto3->dagshub) (1.26.18)\r\n",
      "Requirement already satisfied: smmap<6,>=3.0.1 in /opt/conda/lib/python3.10/site-packages (from gitdb<5,>=4.0.1->GitPython>=3.1.29->dagshub) (5.0.1)\r\n",
      "Requirement already satisfied: h11<0.15,>=0.13 in /opt/conda/lib/python3.10/site-packages (from httpcore<0.17.0,>=0.15.0->httpx~=0.23.0->dagshub) (0.14.0)\r\n",
      "Requirement already satisfied: packaging>=17.0 in /opt/conda/lib/python3.10/site-packages (from marshmallow<4.0.0,>=3.18.0->dataclasses-json->dagshub) (21.3)\r\n",
      "Requirement already satisfied: charset-normalizer<4,>=2 in /opt/conda/lib/python3.10/site-packages (from requests<3,>=2.26->gql[requests]->dagshub) (3.3.2)\r\n",
      "Requirement already satisfied: mypy-extensions>=0.3.0 in /opt/conda/lib/python3.10/site-packages (from typing-inspect<1,>=0.4.0->dataclasses-json->dagshub) (1.0.0)\r\n",
      "Requirement already satisfied: multidict>=4.0 in /opt/conda/lib/python3.10/site-packages (from yarl<2.0,>=1.6->gql[requests]->dagshub) (6.0.4)\r\n",
      "Requirement already satisfied: pyparsing!=3.0.5,>=2.0.2 in /opt/conda/lib/python3.10/site-packages (from packaging>=17.0->marshmallow<4.0.0,>=3.18.0->dataclasses-json->dagshub) (3.1.1)\r\n",
      "Downloading dagshub-0.3.27-py3-none-any.whl (232 kB)\r\n",
      "\u001b[2K   \u001b[90m━━━━━━━━━━━━━━━━━━━━━━━━━━━━━━━━━━━━━━━━\u001b[0m \u001b[32m232.7/232.7 kB\u001b[0m \u001b[31m7.7 MB/s\u001b[0m eta \u001b[36m0:00:00\u001b[0m\r\n",
      "\u001b[?25hDownloading dacite-1.6.0-py3-none-any.whl (12 kB)\r\n",
      "Downloading httpx-0.23.3-py3-none-any.whl (71 kB)\r\n",
      "\u001b[2K   \u001b[90m━━━━━━━━━━━━━━━━━━━━━━━━━━━━━━━━━━━━━━━━\u001b[0m \u001b[32m71.5/71.5 kB\u001b[0m \u001b[31m3.5 MB/s\u001b[0m eta \u001b[36m0:00:00\u001b[0m\r\n",
      "\u001b[?25hDownloading pathvalidate-3.0.0-py3-none-any.whl (21 kB)\r\n",
      "Downloading rich-13.1.0-py3-none-any.whl (238 kB)\r\n",
      "\u001b[2K   \u001b[90m━━━━━━━━━━━━━━━━━━━━━━━━━━━━━━━━━━━━━━━━\u001b[0m \u001b[32m238.4/238.4 kB\u001b[0m \u001b[31m10.9 MB/s\u001b[0m eta \u001b[36m0:00:00\u001b[0m\r\n",
      "\u001b[?25hDownloading treelib-1.6.4-py3-none-any.whl (18 kB)\r\n",
      "Downloading botocore-1.29.165-py3-none-any.whl (11.0 MB)\r\n",
      "\u001b[2K   \u001b[90m━━━━━━━━━━━━━━━━━━━━━━━━━━━━━━━━━━━━━━━━\u001b[0m \u001b[32m11.0/11.0 MB\u001b[0m \u001b[31m68.2 MB/s\u001b[0m eta \u001b[36m0:00:00\u001b[0m\r\n",
      "\u001b[?25hDownloading commonmark-0.9.1-py2.py3-none-any.whl (51 kB)\r\n",
      "\u001b[2K   \u001b[90m━━━━━━━━━━━━━━━━━━━━━━━━━━━━━━━━━━━━━━━━\u001b[0m \u001b[32m51.1/51.1 kB\u001b[0m \u001b[31m2.4 MB/s\u001b[0m eta \u001b[36m0:00:00\u001b[0m\r\n",
      "\u001b[?25hDownloading graphql_core-3.2.3-py3-none-any.whl (202 kB)\r\n",
      "\u001b[2K   \u001b[90m━━━━━━━━━━━━━━━━━━━━━━━━━━━━━━━━━━━━━━━━\u001b[0m \u001b[32m202.9/202.9 kB\u001b[0m \u001b[31m9.7 MB/s\u001b[0m eta \u001b[36m0:00:00\u001b[0m\r\n",
      "\u001b[?25hDownloading httpcore-0.16.3-py3-none-any.whl (69 kB)\r\n",
      "\u001b[2K   \u001b[90m━━━━━━━━━━━━━━━━━━━━━━━━━━━━━━━━━━━━━━━━\u001b[0m \u001b[32m69.6/69.6 kB\u001b[0m \u001b[31m3.7 MB/s\u001b[0m eta \u001b[36m0:00:00\u001b[0m\r\n",
      "\u001b[?25hDownloading requests_toolbelt-1.0.0-py2.py3-none-any.whl (54 kB)\r\n",
      "\u001b[2K   \u001b[90m━━━━━━━━━━━━━━━━━━━━━━━━━━━━━━━━━━━━━━━━\u001b[0m \u001b[32m54.5/54.5 kB\u001b[0m \u001b[31m2.4 MB/s\u001b[0m eta \u001b[36m0:00:00\u001b[0m\r\n",
      "\u001b[?25hDownloading rfc3986-1.5.0-py2.py3-none-any.whl (31 kB)\r\n",
      "Downloading gql-3.5.0-py2.py3-none-any.whl (74 kB)\r\n",
      "\u001b[2K   \u001b[90m━━━━━━━━━━━━━━━━━━━━━━━━━━━━━━━━━━━━━━━━\u001b[0m \u001b[32m74.0/74.0 kB\u001b[0m \u001b[31m3.1 MB/s\u001b[0m eta \u001b[36m0:00:00\u001b[0m\r\n",
      "\u001b[?25hBuilding wheels for collected packages: fusepy\r\n",
      "  Building wheel for fusepy (setup.py) ... \u001b[?25l-\b \b\\\b \bdone\r\n",
      "\u001b[?25h  Created wheel for fusepy: filename=fusepy-3.0.1-py3-none-any.whl size=10487 sha256=ae8646c382748d77f6924d9f4c84f7b5cf37db8a36767619a694db5332f1fb5f\r\n",
      "  Stored in directory: /root/.cache/pip/wheels/c0/18/f6/f0d6be9d0435e2677ce5cc758e91da50053dce456a346f08c5\r\n",
      "Successfully built fusepy\r\n",
      "Installing collected packages: rfc3986, fusepy, commonmark, treelib, rich, pathvalidate, graphql-core, dacite, requests-toolbelt, httpcore, gql, botocore, httpx, dagshub\r\n",
      "  Attempting uninstall: rich\r\n",
      "    Found existing installation: rich 13.7.0\r\n",
      "    Uninstalling rich-13.7.0:\r\n",
      "      Successfully uninstalled rich-13.7.0\r\n",
      "  Attempting uninstall: dacite\r\n",
      "    Found existing installation: dacite 1.8.1\r\n",
      "    Uninstalling dacite-1.8.1:\r\n",
      "      Successfully uninstalled dacite-1.8.1\r\n",
      "  Attempting uninstall: requests-toolbelt\r\n",
      "    Found existing installation: requests-toolbelt 0.10.1\r\n",
      "    Uninstalling requests-toolbelt-0.10.1:\r\n",
      "      Successfully uninstalled requests-toolbelt-0.10.1\r\n",
      "  Attempting uninstall: httpcore\r\n",
      "    Found existing installation: httpcore 1.0.5\r\n",
      "    Uninstalling httpcore-1.0.5:\r\n",
      "      Successfully uninstalled httpcore-1.0.5\r\n",
      "  Attempting uninstall: botocore\r\n",
      "    Found existing installation: botocore 1.34.69\r\n",
      "    Uninstalling botocore-1.34.69:\r\n",
      "      Successfully uninstalled botocore-1.34.69\r\n",
      "  Attempting uninstall: httpx\r\n",
      "    Found existing installation: httpx 0.27.0\r\n",
      "    Uninstalling httpx-0.27.0:\r\n",
      "      Successfully uninstalled httpx-0.27.0\r\n",
      "\u001b[31mERROR: pip's dependency resolver does not currently take into account all the packages that are installed. This behaviour is the source of the following dependency conflicts.\r\n",
      "keras-nlp 0.9.3 requires keras-core, which is not installed.\r\n",
      "tensorflow-decision-forests 1.8.1 requires wurlitzer, which is not installed.\r\n",
      "aiobotocore 2.12.3 requires botocore<1.34.70,>=1.34.41, but you have botocore 1.29.165 which is incompatible.\r\n",
      "jupyterlab 4.1.6 requires httpx>=0.25.0, but you have httpx 0.23.3 which is incompatible.\r\n",
      "jupyterlab 4.1.6 requires jupyter-lsp>=2.0.0, but you have jupyter-lsp 1.5.1 which is incompatible.\r\n",
      "jupyterlab-lsp 5.1.0 requires jupyter-lsp>=2.0.0, but you have jupyter-lsp 1.5.1 which is incompatible.\r\n",
      "kfp 2.5.0 requires google-cloud-storage<3,>=2.2.1, but you have google-cloud-storage 1.44.0 which is incompatible.\r\n",
      "kfp 2.5.0 requires requests-toolbelt<1,>=0.8.0, but you have requests-toolbelt 1.0.0 which is incompatible.\r\n",
      "tensorflow 2.15.0 requires keras<2.16,>=2.15.0, but you have keras 3.2.1 which is incompatible.\r\n",
      "ydata-profiling 4.6.4 requires dacite>=1.8, but you have dacite 1.6.0 which is incompatible.\r\n",
      "ydata-profiling 4.6.4 requires numpy<1.26,>=1.16.0, but you have numpy 1.26.4 which is incompatible.\u001b[0m\u001b[31m\r\n",
      "\u001b[0mSuccessfully installed botocore-1.29.165 commonmark-0.9.1 dacite-1.6.0 dagshub-0.3.27 fusepy-3.0.1 gql-3.5.0 graphql-core-3.2.3 httpcore-0.16.3 httpx-0.23.3 pathvalidate-3.0.0 requests-toolbelt-1.0.0 rfc3986-1.5.0 rich-13.1.0 treelib-1.6.4\r\n",
      "Collecting mlflow\r\n",
      "  Downloading mlflow-2.13.0-py3-none-any.whl.metadata (29 kB)\r\n",
      "Requirement already satisfied: Flask<4 in /opt/conda/lib/python3.10/site-packages (from mlflow) (3.0.3)\r\n",
      "Requirement already satisfied: alembic!=1.10.0,<2 in /opt/conda/lib/python3.10/site-packages (from mlflow) (1.13.1)\r\n",
      "Collecting cachetools<6,>=5.0.0 (from mlflow)\r\n",
      "  Downloading cachetools-5.3.3-py3-none-any.whl.metadata (5.3 kB)\r\n",
      "Requirement already satisfied: click<9,>=7.0 in /opt/conda/lib/python3.10/site-packages (from mlflow) (8.1.7)\r\n",
      "Requirement already satisfied: cloudpickle<4 in /opt/conda/lib/python3.10/site-packages (from mlflow) (2.2.1)\r\n",
      "Requirement already satisfied: docker<8,>=4.0.0 in /opt/conda/lib/python3.10/site-packages (from mlflow) (7.0.0)\r\n",
      "Requirement already satisfied: entrypoints<1 in /opt/conda/lib/python3.10/site-packages (from mlflow) (0.4)\r\n",
      "Requirement already satisfied: gitpython<4,>=3.1.9 in /opt/conda/lib/python3.10/site-packages (from mlflow) (3.1.41)\r\n",
      "Collecting graphene<4 (from mlflow)\r\n",
      "  Downloading graphene-3.3-py2.py3-none-any.whl.metadata (7.7 kB)\r\n",
      "Requirement already satisfied: importlib-metadata!=4.7.0,<8,>=3.7.0 in /opt/conda/lib/python3.10/site-packages (from mlflow) (6.11.0)\r\n",
      "Requirement already satisfied: markdown<4,>=3.3 in /opt/conda/lib/python3.10/site-packages (from mlflow) (3.5.2)\r\n",
      "Requirement already satisfied: matplotlib<4 in /opt/conda/lib/python3.10/site-packages (from mlflow) (3.7.5)\r\n",
      "Requirement already satisfied: numpy<2 in /opt/conda/lib/python3.10/site-packages (from mlflow) (1.26.4)\r\n",
      "Requirement already satisfied: opentelemetry-api<3,>=1.0.0 in /opt/conda/lib/python3.10/site-packages (from mlflow) (1.22.0)\r\n",
      "Requirement already satisfied: opentelemetry-sdk<3,>=1.0.0 in /opt/conda/lib/python3.10/site-packages (from mlflow) (1.22.0)\r\n",
      "Requirement already satisfied: packaging<25 in /opt/conda/lib/python3.10/site-packages (from mlflow) (21.3)\r\n",
      "Requirement already satisfied: pandas<3 in /opt/conda/lib/python3.10/site-packages (from mlflow) (2.2.2)\r\n",
      "Requirement already satisfied: protobuf<5,>=3.12.0 in /opt/conda/lib/python3.10/site-packages (from mlflow) (3.20.3)\r\n",
      "Requirement already satisfied: pyarrow<16,>=4.0.0 in /opt/conda/lib/python3.10/site-packages (from mlflow) (15.0.2)\r\n",
      "Requirement already satisfied: pytz<2025 in /opt/conda/lib/python3.10/site-packages (from mlflow) (2023.3.post1)\r\n",
      "Requirement already satisfied: pyyaml<7,>=5.1 in /opt/conda/lib/python3.10/site-packages (from mlflow) (6.0.1)\r\n",
      "Collecting querystring-parser<2 (from mlflow)\r\n",
      "  Downloading querystring_parser-1.2.4-py2.py3-none-any.whl.metadata (559 bytes)\r\n",
      "Requirement already satisfied: requests<3,>=2.17.3 in /opt/conda/lib/python3.10/site-packages (from mlflow) (2.31.0)\r\n",
      "Requirement already satisfied: scikit-learn<2 in /opt/conda/lib/python3.10/site-packages (from mlflow) (1.2.2)\r\n",
      "Requirement already satisfied: scipy<2 in /opt/conda/lib/python3.10/site-packages (from mlflow) (1.11.4)\r\n",
      "Requirement already satisfied: sqlalchemy<3,>=1.4.0 in /opt/conda/lib/python3.10/site-packages (from mlflow) (2.0.25)\r\n",
      "Requirement already satisfied: sqlparse<1,>=0.4.0 in /opt/conda/lib/python3.10/site-packages (from mlflow) (0.4.4)\r\n",
      "Requirement already satisfied: Jinja2<4,>=2.11 in /opt/conda/lib/python3.10/site-packages (from mlflow) (3.1.2)\r\n",
      "Collecting gunicorn<23 (from mlflow)\r\n",
      "  Downloading gunicorn-22.0.0-py3-none-any.whl.metadata (4.4 kB)\r\n",
      "Requirement already satisfied: Mako in /opt/conda/lib/python3.10/site-packages (from alembic!=1.10.0,<2->mlflow) (1.3.3)\r\n",
      "Requirement already satisfied: typing-extensions>=4 in /opt/conda/lib/python3.10/site-packages (from alembic!=1.10.0,<2->mlflow) (4.9.0)\r\n",
      "Requirement already satisfied: urllib3>=1.26.0 in /opt/conda/lib/python3.10/site-packages (from docker<8,>=4.0.0->mlflow) (1.26.18)\r\n",
      "Requirement already satisfied: Werkzeug>=3.0.0 in /opt/conda/lib/python3.10/site-packages (from Flask<4->mlflow) (3.0.2)\r\n",
      "Requirement already satisfied: itsdangerous>=2.1.2 in /opt/conda/lib/python3.10/site-packages (from Flask<4->mlflow) (2.2.0)\r\n",
      "Requirement already satisfied: blinker>=1.6.2 in /opt/conda/lib/python3.10/site-packages (from Flask<4->mlflow) (1.7.0)\r\n",
      "Requirement already satisfied: gitdb<5,>=4.0.1 in /opt/conda/lib/python3.10/site-packages (from gitpython<4,>=3.1.9->mlflow) (4.0.11)\r\n",
      "Requirement already satisfied: graphql-core<3.3,>=3.1 in /opt/conda/lib/python3.10/site-packages (from graphene<4->mlflow) (3.2.3)\r\n",
      "Collecting graphql-relay<3.3,>=3.1 (from graphene<4->mlflow)\r\n",
      "  Downloading graphql_relay-3.2.0-py3-none-any.whl.metadata (12 kB)\r\n",
      "Collecting aniso8601<10,>=8 (from graphene<4->mlflow)\r\n",
      "  Downloading aniso8601-9.0.1-py2.py3-none-any.whl.metadata (23 kB)\r\n",
      "Requirement already satisfied: zipp>=0.5 in /opt/conda/lib/python3.10/site-packages (from importlib-metadata!=4.7.0,<8,>=3.7.0->mlflow) (3.17.0)\r\n",
      "Requirement already satisfied: MarkupSafe>=2.0 in /opt/conda/lib/python3.10/site-packages (from Jinja2<4,>=2.11->mlflow) (2.1.3)\r\n",
      "Requirement already satisfied: contourpy>=1.0.1 in /opt/conda/lib/python3.10/site-packages (from matplotlib<4->mlflow) (1.2.0)\r\n",
      "Requirement already satisfied: cycler>=0.10 in /opt/conda/lib/python3.10/site-packages (from matplotlib<4->mlflow) (0.12.1)\r\n",
      "Requirement already satisfied: fonttools>=4.22.0 in /opt/conda/lib/python3.10/site-packages (from matplotlib<4->mlflow) (4.47.0)\r\n",
      "Requirement already satisfied: kiwisolver>=1.0.1 in /opt/conda/lib/python3.10/site-packages (from matplotlib<4->mlflow) (1.4.5)\r\n",
      "Requirement already satisfied: pillow>=6.2.0 in /opt/conda/lib/python3.10/site-packages (from matplotlib<4->mlflow) (9.5.0)\r\n",
      "Requirement already satisfied: pyparsing>=2.3.1 in /opt/conda/lib/python3.10/site-packages (from matplotlib<4->mlflow) (3.1.1)\r\n",
      "Requirement already satisfied: python-dateutil>=2.7 in /opt/conda/lib/python3.10/site-packages (from matplotlib<4->mlflow) (2.9.0.post0)\r\n",
      "Requirement already satisfied: deprecated>=1.2.6 in /opt/conda/lib/python3.10/site-packages (from opentelemetry-api<3,>=1.0.0->mlflow) (1.2.14)\r\n",
      "Requirement already satisfied: opentelemetry-semantic-conventions==0.43b0 in /opt/conda/lib/python3.10/site-packages (from opentelemetry-sdk<3,>=1.0.0->mlflow) (0.43b0)\r\n",
      "Requirement already satisfied: tzdata>=2022.7 in /opt/conda/lib/python3.10/site-packages (from pandas<3->mlflow) (2023.4)\r\n",
      "Requirement already satisfied: six in /opt/conda/lib/python3.10/site-packages (from querystring-parser<2->mlflow) (1.16.0)\r\n",
      "Requirement already satisfied: charset-normalizer<4,>=2 in /opt/conda/lib/python3.10/site-packages (from requests<3,>=2.17.3->mlflow) (3.3.2)\r\n",
      "Requirement already satisfied: idna<4,>=2.5 in /opt/conda/lib/python3.10/site-packages (from requests<3,>=2.17.3->mlflow) (3.6)\r\n",
      "Requirement already satisfied: certifi>=2017.4.17 in /opt/conda/lib/python3.10/site-packages (from requests<3,>=2.17.3->mlflow) (2024.2.2)\r\n",
      "Requirement already satisfied: joblib>=1.1.1 in /opt/conda/lib/python3.10/site-packages (from scikit-learn<2->mlflow) (1.4.0)\r\n",
      "Requirement already satisfied: threadpoolctl>=2.0.0 in /opt/conda/lib/python3.10/site-packages (from scikit-learn<2->mlflow) (3.2.0)\r\n",
      "Requirement already satisfied: greenlet!=0.4.17 in /opt/conda/lib/python3.10/site-packages (from sqlalchemy<3,>=1.4.0->mlflow) (3.0.3)\r\n",
      "Requirement already satisfied: wrapt<2,>=1.10 in /opt/conda/lib/python3.10/site-packages (from deprecated>=1.2.6->opentelemetry-api<3,>=1.0.0->mlflow) (1.14.1)\r\n",
      "Requirement already satisfied: smmap<6,>=3.0.1 in /opt/conda/lib/python3.10/site-packages (from gitdb<5,>=4.0.1->gitpython<4,>=3.1.9->mlflow) (5.0.1)\r\n",
      "Downloading mlflow-2.13.0-py3-none-any.whl (25.0 MB)\r\n",
      "\u001b[2K   \u001b[90m━━━━━━━━━━━━━━━━━━━━━━━━━━━━━━━━━━━━━━━━\u001b[0m \u001b[32m25.0/25.0 MB\u001b[0m \u001b[31m54.6 MB/s\u001b[0m eta \u001b[36m0:00:00\u001b[0m\r\n",
      "\u001b[?25hDownloading cachetools-5.3.3-py3-none-any.whl (9.3 kB)\r\n",
      "Downloading graphene-3.3-py2.py3-none-any.whl (128 kB)\r\n",
      "\u001b[2K   \u001b[90m━━━━━━━━━━━━━━━━━━━━━━━━━━━━━━━━━━━━━━━━\u001b[0m \u001b[32m128.2/128.2 kB\u001b[0m \u001b[31m6.3 MB/s\u001b[0m eta \u001b[36m0:00:00\u001b[0m\r\n",
      "\u001b[?25hDownloading gunicorn-22.0.0-py3-none-any.whl (84 kB)\r\n",
      "\u001b[2K   \u001b[90m━━━━━━━━━━━━━━━━━━━━━━━━━━━━━━━━━━━━━━━━\u001b[0m \u001b[32m84.4/84.4 kB\u001b[0m \u001b[31m3.2 MB/s\u001b[0m eta \u001b[36m0:00:00\u001b[0m\r\n",
      "\u001b[?25hDownloading querystring_parser-1.2.4-py2.py3-none-any.whl (7.9 kB)\r\n",
      "Downloading aniso8601-9.0.1-py2.py3-none-any.whl (52 kB)\r\n",
      "\u001b[2K   \u001b[90m━━━━━━━━━━━━━━━━━━━━━━━━━━━━━━━━━━━━━━━━\u001b[0m \u001b[32m52.8/52.8 kB\u001b[0m \u001b[31m2.0 MB/s\u001b[0m eta \u001b[36m0:00:00\u001b[0m\r\n",
      "\u001b[?25hDownloading graphql_relay-3.2.0-py3-none-any.whl (16 kB)\r\n",
      "Installing collected packages: aniso8601, querystring-parser, graphql-relay, cachetools, gunicorn, graphene, mlflow\r\n",
      "  Attempting uninstall: cachetools\r\n",
      "    Found existing installation: cachetools 4.2.4\r\n",
      "    Uninstalling cachetools-4.2.4:\r\n",
      "      Successfully uninstalled cachetools-4.2.4\r\n",
      "\u001b[31mERROR: pip's dependency resolver does not currently take into account all the packages that are installed. This behaviour is the source of the following dependency conflicts.\r\n",
      "tensorflow-decision-forests 1.8.1 requires wurlitzer, which is not installed.\r\n",
      "kfp 2.5.0 requires google-cloud-storage<3,>=2.2.1, but you have google-cloud-storage 1.44.0 which is incompatible.\r\n",
      "kfp 2.5.0 requires requests-toolbelt<1,>=0.8.0, but you have requests-toolbelt 1.0.0 which is incompatible.\r\n",
      "tensorflow 2.15.0 requires keras<2.16,>=2.15.0, but you have keras 3.2.1 which is incompatible.\u001b[0m\u001b[31m\r\n",
      "\u001b[0mSuccessfully installed aniso8601-9.0.1 cachetools-5.3.2 graphene-3.3 graphql-relay-3.2.0 gunicorn-22.0.0 mlflow-2.13.0 querystring-parser-1.2.4\r\n"
     ]
    }
   ],
   "source": [
    "!pip install dagshub\n",
    "!pip install mlflow"
   ]
  },
  {
   "cell_type": "code",
   "execution_count": 37,
   "id": "86da197c",
   "metadata": {
    "execution": {
     "iopub.execute_input": "2024-05-28T11:56:12.022571Z",
     "iopub.status.busy": "2024-05-28T11:56:12.022063Z",
     "iopub.status.idle": "2024-05-28T11:56:26.923263Z",
     "shell.execute_reply": "2024-05-28T11:56:26.921968Z"
    },
    "papermill": {
     "duration": 14.946931,
     "end_time": "2024-05-28T11:56:26.926913",
     "exception": false,
     "start_time": "2024-05-28T11:56:11.979982",
     "status": "completed"
    },
    "tags": []
   },
   "outputs": [
    {
     "data": {
      "text/html": [
       "<pre style=\"white-space:pre;overflow-x:auto;line-height:normal;font-family:Menlo,'DejaVu Sans Mono',consolas,'Courier New',monospace\">                                       <span style=\"font-weight: bold\">❗❗❗ AUTHORIZATION REQUIRED ❗❗❗</span>                                        \n",
       "</pre>\n"
      ],
      "text/plain": [
       "                                       \u001b[1m❗❗❗ AUTHORIZATION REQUIRED ❗❗❗\u001b[0m                                        \n"
      ]
     },
     "metadata": {},
     "output_type": "display_data"
    },
    {
     "data": {
      "application/vnd.jupyter.widget-view+json": {
       "model_id": "2b7534bd750841f89eb6b130b6b41161",
       "version_major": 2,
       "version_minor": 0
      },
      "text/plain": [
       "Output()"
      ]
     },
     "metadata": {},
     "output_type": "display_data"
    },
    {
     "name": "stdout",
     "output_type": "stream",
     "text": [
      "\n",
      "\n",
      "Open the following link in your browser to authorize the client:\n",
      "https://dagshub.com/login/oauth/authorize?state=89991fa1-97f2-4e1a-ad3a-b511da953c8d&client_id=32b60ba385aa7cecf24046d8195a71c07dd345d9657977863b52e7748e0f0f28&middleman_request_id=ffa2d012403e67f23982567445b5fa63591121eb68f39e99b3e4df3e843f74a8\n",
      "\n",
      "\n"
     ]
    },
    {
     "data": {
      "text/html": [
       "<pre style=\"white-space:pre;overflow-x:auto;line-height:normal;font-family:Menlo,'DejaVu Sans Mono',consolas,'Courier New',monospace\"></pre>\n"
      ],
      "text/plain": []
     },
     "metadata": {},
     "output_type": "display_data"
    },
    {
     "data": {
      "text/html": [
       "<pre style=\"white-space:pre;overflow-x:auto;line-height:normal;font-family:Menlo,'DejaVu Sans Mono',consolas,'Courier New',monospace\">Initialized MLflow to track repo <span style=\"color: #008000; text-decoration-color: #008000\">\"SunilKumar-ugra/MobilePriceClassification\"</span>\n",
       "</pre>\n"
      ],
      "text/plain": [
       "Initialized MLflow to track repo \u001b[32m\"SunilKumar-ugra/MobilePriceClassification\"\u001b[0m\n"
      ]
     },
     "metadata": {},
     "output_type": "display_data"
    },
    {
     "data": {
      "text/html": [
       "<pre style=\"white-space:pre;overflow-x:auto;line-height:normal;font-family:Menlo,'DejaVu Sans Mono',consolas,'Courier New',monospace\">Repository SunilKumar-ugra/MobilePriceClassification initialized!\n",
       "</pre>\n"
      ],
      "text/plain": [
       "Repository SunilKumar-ugra/MobilePriceClassification initialized!\n"
      ]
     },
     "metadata": {},
     "output_type": "display_data"
    }
   ],
   "source": [
    "import dagshub\n",
    "dagshub.init(repo_owner='SunilKumar-ugra', repo_name='MobilePriceClassification', mlflow=True)\n"
   ]
  },
  {
   "cell_type": "code",
   "execution_count": 38,
   "id": "cc2d6b99",
   "metadata": {
    "execution": {
     "iopub.execute_input": "2024-05-28T11:56:27.548521Z",
     "iopub.status.busy": "2024-05-28T11:56:27.548157Z",
     "iopub.status.idle": "2024-05-28T11:56:29.873631Z",
     "shell.execute_reply": "2024-05-28T11:56:29.872290Z"
    },
    "papermill": {
     "duration": 2.901902,
     "end_time": "2024-05-28T11:56:29.876533",
     "exception": false,
     "start_time": "2024-05-28T11:56:26.974631",
     "status": "completed"
    },
    "tags": []
   },
   "outputs": [
    {
     "data": {
      "text/plain": [
       "<Experiment: artifact_location='mlflow-artifacts:/b6fa06694042413aa035c5fbeb8abccc', creation_time=1716895721420, experiment_id='0', last_update_time=1716895721420, lifecycle_stage='active', name='Mobile Price Classification', tags={'mlflow.sharedViewState.f929573f3bf33869cb47d74c838afd8d0ff0e29f39611ab32491f4fe705ed4ca': '{\"searchFilter\":\"\",\"orderByKey\":\"metrics.`Test '\n",
       "                                                                                            'Accuracy`\",\"orderByAsc\":false,\"startTime\":\"ALL\",\"lifecycleFilter\":\"Active\",\"datasetsFilter\":[],\"modelVersionFilter\":\"All '\n",
       "                                                                                            'Runs\",\"selectedColumns\":[\"attributes.`Source`\",\"attributes.`Models`\",\"metrics.`Train '\n",
       "                                                                                            'Accuracy`\",\"metrics.`Test '\n",
       "                                                                                            'Accuracy`\"],\"runsExpanded\":{},\"runsPinned\":[],\"runsHidden\":[],\"runsHiddenMode\":\"FIRST_10_RUNS\",\"compareRunCharts\":[{\"uuid\":\"17166352004322tfmjvun\",\"type\":\"BAR\",\"runsCountToCompare\":10,\"metricSectionId\":\"1716635200431fggczsp6\",\"deleted\":false,\"isGenerated\":true,\"metricKey\":\"Test '\n",
       "                                                                                            'Accuracy\"},{\"uuid\":\"1716635200432eshmrd0f\",\"type\":\"BAR\",\"runsCountToCompare\":10,\"metricSectionId\":\"1716635200431fggczsp6\",\"deleted\":false,\"isGenerated\":true,\"metricKey\":\"Test '\n",
       "                                                                                            'F1 '\n",
       "                                                                                            'Score\"},{\"uuid\":\"1716635200432lwwmgf4x\",\"type\":\"BAR\",\"runsCountToCompare\":10,\"metricSectionId\":\"1716635200431fggczsp6\",\"deleted\":false,\"isGenerated\":true,\"metricKey\":\"Test '\n",
       "                                                                                            'Precision\"},{\"uuid\":\"17166352004327wviine1\",\"type\":\"BAR\",\"runsCountToCompare\":10,\"metricSectionId\":\"1716635200431fggczsp6\",\"deleted\":false,\"isGenerated\":true,\"metricKey\":\"Test '\n",
       "                                                                                            'Recall\"},{\"uuid\":\"171663520043265gs90lr\",\"type\":\"BAR\",\"runsCountToCompare\":10,\"metricSectionId\":\"1716635200431fggczsp6\",\"deleted\":false,\"isGenerated\":true,\"metricKey\":\"Train '\n",
       "                                                                                            'Accuracy\"},{\"uuid\":\"1716635200432h5t0ab4m\",\"type\":\"BAR\",\"runsCountToCompare\":10,\"metricSectionId\":\"1716635200431fggczsp6\",\"deleted\":false,\"isGenerated\":true,\"metricKey\":\"Train '\n",
       "                                                                                            'F1 '\n",
       "                                                                                            'Score\"},{\"uuid\":\"1716635200432oxxjxa2v\",\"type\":\"BAR\",\"runsCountToCompare\":10,\"metricSectionId\":\"1716635200431fggczsp6\",\"deleted\":false,\"isGenerated\":true,\"metricKey\":\"Train '\n",
       "                                                                                            'Precision\"},{\"uuid\":\"171663520043294p5xeaa\",\"type\":\"BAR\",\"runsCountToCompare\":10,\"metricSectionId\":\"1716635200431fggczsp6\",\"deleted\":false,\"isGenerated\":true,\"metricKey\":\"Train '\n",
       "                                                                                            'Recall\"}],\"compareRunSections\":[{\"uuid\":\"1716635200431fggczsp6\",\"name\":\"Model '\n",
       "                                                                                            'metrics\",\"display\":true,\"isReordered\":false,\"deleted\":false,\"isGenerated\":true},{\"uuid\":\"1716635200431ip5r17ro\",\"name\":\"System '\n",
       "                                                                                            'metrics\",\"display\":true,\"isReordered\":false,\"deleted\":false,\"isGenerated\":true}],\"viewMaximized\":false,\"runListHidden\":false,\"isAccordionReordered\":false,\"groupBy\":\"\",\"groupsExpanded\":{\"tag.model_name.XGBoost\":true}}'}>"
      ]
     },
     "execution_count": 38,
     "metadata": {},
     "output_type": "execute_result"
    }
   ],
   "source": [
    "import mlflow\n",
    "mlflow.set_tracking_uri(\"https://dagshub.com/SunilKumar-ugra/MobilePriceClassification.mlflow\")\n",
    "mlflow.set_experiment(\"Mobile Price Classification\")"
   ]
  },
  {
   "cell_type": "code",
   "execution_count": 39,
   "id": "efa269d1",
   "metadata": {
    "execution": {
     "iopub.execute_input": "2024-05-28T11:56:29.962241Z",
     "iopub.status.busy": "2024-05-28T11:56:29.961585Z",
     "iopub.status.idle": "2024-05-28T11:56:29.968074Z",
     "shell.execute_reply": "2024-05-28T11:56:29.967035Z"
    },
    "papermill": {
     "duration": 0.051156,
     "end_time": "2024-05-28T11:56:29.970551",
     "exception": false,
     "start_time": "2024-05-28T11:56:29.919395",
     "status": "completed"
    },
    "tags": []
   },
   "outputs": [],
   "source": [
    "def classification_performace_matric(actual, pred,avg):\n",
    "        acc=accuracy_score(actual,pred)\n",
    "        f1=f1_score(actual,pred,average=avg)\n",
    "        precission=precision_score(actual,pred,average=avg)\n",
    "        recall=recall_score(actual,pred,average=avg)\n",
    "        return acc,f1,precission,recall"
   ]
  },
  {
   "cell_type": "code",
   "execution_count": 40,
   "id": "a7a89fb9",
   "metadata": {
    "execution": {
     "iopub.execute_input": "2024-05-28T11:56:30.057147Z",
     "iopub.status.busy": "2024-05-28T11:56:30.056752Z",
     "iopub.status.idle": "2024-05-28T11:57:54.386718Z",
     "shell.execute_reply": "2024-05-28T11:57:54.385552Z"
    },
    "papermill": {
     "duration": 84.376975,
     "end_time": "2024-05-28T11:57:54.389711",
     "exception": false,
     "start_time": "2024-05-28T11:56:30.012736",
     "status": "completed"
    },
    "tags": []
   },
   "outputs": [
    {
     "name": "stderr",
     "output_type": "stream",
     "text": [
      "/tmp/ipykernel_18/3687507582.py:10: DataConversionWarning: A column-vector y was passed when a 1d array was expected. Please change the shape of y to (n_samples,), for example using ravel().\n",
      "  model.fit(X_train,y_train)\n",
      "/opt/conda/lib/python3.10/site-packages/_distutils_hack/__init__.py:18: UserWarning: Distutils was imported before Setuptools, but importing Setuptools also replaces the `distutils` module in `sys.modules`. This may lead to undesirable behaviors or errors. To avoid these issues, avoid using distutils directly, ensure that setuptools is installed in the traditional way (e.g. not an editable install), and/or make sure that setuptools is always imported before distutils.\n",
      "  warnings.warn(\n",
      "/opt/conda/lib/python3.10/site-packages/_distutils_hack/__init__.py:33: UserWarning: Setuptools is replacing distutils.\n",
      "  warnings.warn(\"Setuptools is replacing distutils.\")\n",
      "/opt/conda/lib/python3.10/site-packages/_distutils_hack/__init__.py:18: UserWarning: Distutils was imported before Setuptools, but importing Setuptools also replaces the `distutils` module in `sys.modules`. This may lead to undesirable behaviors or errors. To avoid these issues, avoid using distutils directly, ensure that setuptools is installed in the traditional way (e.g. not an editable install), and/or make sure that setuptools is always imported before distutils.\n",
      "  warnings.warn(\n",
      "/opt/conda/lib/python3.10/site-packages/_distutils_hack/__init__.py:33: UserWarning: Setuptools is replacing distutils.\n",
      "  warnings.warn(\"Setuptools is replacing distutils.\")\n",
      "/opt/conda/lib/python3.10/site-packages/sklearn/ensemble/_gb.py:437: DataConversionWarning: A column-vector y was passed when a 1d array was expected. Please change the shape of y to (n_samples, ), for example using ravel().\n",
      "  y = column_or_1d(y, warn=True)\n",
      "/opt/conda/lib/python3.10/site-packages/_distutils_hack/__init__.py:18: UserWarning: Distutils was imported before Setuptools, but importing Setuptools also replaces the `distutils` module in `sys.modules`. This may lead to undesirable behaviors or errors. To avoid these issues, avoid using distutils directly, ensure that setuptools is installed in the traditional way (e.g. not an editable install), and/or make sure that setuptools is always imported before distutils.\n",
      "  warnings.warn(\n",
      "/opt/conda/lib/python3.10/site-packages/_distutils_hack/__init__.py:33: UserWarning: Setuptools is replacing distutils.\n",
      "  warnings.warn(\"Setuptools is replacing distutils.\")\n",
      "/opt/conda/lib/python3.10/site-packages/sklearn/utils/validation.py:1143: DataConversionWarning: A column-vector y was passed when a 1d array was expected. Please change the shape of y to (n_samples, ), for example using ravel().\n",
      "  y = column_or_1d(y, warn=True)\n",
      "/opt/conda/lib/python3.10/site-packages/_distutils_hack/__init__.py:18: UserWarning: Distutils was imported before Setuptools, but importing Setuptools also replaces the `distutils` module in `sys.modules`. This may lead to undesirable behaviors or errors. To avoid these issues, avoid using distutils directly, ensure that setuptools is installed in the traditional way (e.g. not an editable install), and/or make sure that setuptools is always imported before distutils.\n",
      "  warnings.warn(\n",
      "/opt/conda/lib/python3.10/site-packages/_distutils_hack/__init__.py:33: UserWarning: Setuptools is replacing distutils.\n",
      "  warnings.warn(\"Setuptools is replacing distutils.\")\n"
     ]
    },
    {
     "name": "stdout",
     "output_type": "stream",
     "text": [
      "0:\tlearn: 1.2658698\ttotal: 66.1ms\tremaining: 6.54s\n",
      "1:\tlearn: 1.1748159\ttotal: 70.9ms\tremaining: 3.47s\n",
      "2:\tlearn: 1.0917748\ttotal: 75.2ms\tremaining: 2.43s\n",
      "3:\tlearn: 1.0027333\ttotal: 79.9ms\tremaining: 1.92s\n",
      "4:\tlearn: 0.9293613\ttotal: 84.3ms\tremaining: 1.6s\n",
      "5:\tlearn: 0.8618800\ttotal: 88.7ms\tremaining: 1.39s\n",
      "6:\tlearn: 0.8149778\ttotal: 93ms\tremaining: 1.23s\n",
      "7:\tlearn: 0.7598498\ttotal: 98.2ms\tremaining: 1.13s\n",
      "8:\tlearn: 0.7241426\ttotal: 102ms\tremaining: 1.04s\n",
      "9:\tlearn: 0.6864946\ttotal: 107ms\tremaining: 961ms\n",
      "10:\tlearn: 0.6595928\ttotal: 111ms\tremaining: 896ms\n",
      "11:\tlearn: 0.6291023\ttotal: 115ms\tremaining: 844ms\n",
      "12:\tlearn: 0.5992185\ttotal: 119ms\tremaining: 798ms\n",
      "13:\tlearn: 0.5741525\ttotal: 124ms\tremaining: 761ms\n",
      "14:\tlearn: 0.5479644\ttotal: 128ms\tremaining: 728ms\n",
      "15:\tlearn: 0.5275537\ttotal: 133ms\tremaining: 698ms\n",
      "16:\tlearn: 0.5165253\ttotal: 137ms\tremaining: 670ms\n",
      "17:\tlearn: 0.4995629\ttotal: 141ms\tremaining: 644ms\n",
      "18:\tlearn: 0.4874420\ttotal: 145ms\tremaining: 620ms\n",
      "19:\tlearn: 0.4692618\ttotal: 149ms\tremaining: 598ms\n",
      "20:\tlearn: 0.4525323\ttotal: 153ms\tremaining: 577ms\n",
      "21:\tlearn: 0.4353861\ttotal: 157ms\tremaining: 558ms\n",
      "22:\tlearn: 0.4247438\ttotal: 162ms\tremaining: 541ms\n",
      "23:\tlearn: 0.4115858\ttotal: 165ms\tremaining: 524ms\n",
      "24:\tlearn: 0.4006765\ttotal: 169ms\tremaining: 508ms\n",
      "25:\tlearn: 0.3931998\ttotal: 173ms\tremaining: 493ms\n",
      "26:\tlearn: 0.3862472\ttotal: 177ms\tremaining: 480ms\n",
      "27:\tlearn: 0.3748202\ttotal: 181ms\tremaining: 466ms\n",
      "28:\tlearn: 0.3668197\ttotal: 185ms\tremaining: 453ms\n",
      "29:\tlearn: 0.3606105\ttotal: 189ms\tremaining: 441ms\n",
      "30:\tlearn: 0.3518342\ttotal: 193ms\tremaining: 430ms\n",
      "31:\tlearn: 0.3445360\ttotal: 197ms\tremaining: 419ms\n",
      "32:\tlearn: 0.3362048\ttotal: 201ms\tremaining: 409ms\n",
      "33:\tlearn: 0.3323478\ttotal: 206ms\tremaining: 400ms\n",
      "34:\tlearn: 0.3258157\ttotal: 211ms\tremaining: 392ms\n",
      "35:\tlearn: 0.3208132\ttotal: 216ms\tremaining: 383ms\n",
      "36:\tlearn: 0.3159376\ttotal: 220ms\tremaining: 375ms\n",
      "37:\tlearn: 0.3105773\ttotal: 225ms\tremaining: 367ms\n",
      "38:\tlearn: 0.3038466\ttotal: 229ms\tremaining: 359ms\n",
      "39:\tlearn: 0.2989586\ttotal: 233ms\tremaining: 350ms\n",
      "40:\tlearn: 0.2936928\ttotal: 238ms\tremaining: 342ms\n",
      "41:\tlearn: 0.2880303\ttotal: 242ms\tremaining: 335ms\n",
      "42:\tlearn: 0.2851920\ttotal: 247ms\tremaining: 328ms\n",
      "43:\tlearn: 0.2829959\ttotal: 252ms\tremaining: 321ms\n",
      "44:\tlearn: 0.2792072\ttotal: 257ms\tremaining: 314ms\n",
      "45:\tlearn: 0.2763037\ttotal: 261ms\tremaining: 307ms\n",
      "46:\tlearn: 0.2704770\ttotal: 266ms\tremaining: 300ms\n",
      "47:\tlearn: 0.2688054\ttotal: 271ms\tremaining: 293ms\n",
      "48:\tlearn: 0.2637173\ttotal: 275ms\tremaining: 286ms\n",
      "49:\tlearn: 0.2615801\ttotal: 280ms\tremaining: 280ms\n",
      "50:\tlearn: 0.2584296\ttotal: 285ms\tremaining: 273ms\n",
      "51:\tlearn: 0.2547765\ttotal: 290ms\tremaining: 268ms\n",
      "52:\tlearn: 0.2528628\ttotal: 295ms\tremaining: 261ms\n",
      "53:\tlearn: 0.2505750\ttotal: 299ms\tremaining: 255ms\n",
      "54:\tlearn: 0.2476451\ttotal: 304ms\tremaining: 249ms\n",
      "55:\tlearn: 0.2457103\ttotal: 309ms\tremaining: 243ms\n",
      "56:\tlearn: 0.2436668\ttotal: 313ms\tremaining: 236ms\n",
      "57:\tlearn: 0.2422755\ttotal: 318ms\tremaining: 230ms\n",
      "58:\tlearn: 0.2398030\ttotal: 323ms\tremaining: 224ms\n",
      "59:\tlearn: 0.2373069\ttotal: 328ms\tremaining: 218ms\n",
      "60:\tlearn: 0.2354855\ttotal: 332ms\tremaining: 212ms\n",
      "61:\tlearn: 0.2329347\ttotal: 336ms\tremaining: 206ms\n",
      "62:\tlearn: 0.2311357\ttotal: 340ms\tremaining: 200ms\n",
      "63:\tlearn: 0.2280084\ttotal: 345ms\tremaining: 194ms\n",
      "64:\tlearn: 0.2252287\ttotal: 349ms\tremaining: 188ms\n",
      "65:\tlearn: 0.2233440\ttotal: 353ms\tremaining: 182ms\n",
      "66:\tlearn: 0.2202564\ttotal: 358ms\tremaining: 176ms\n",
      "67:\tlearn: 0.2173550\ttotal: 362ms\tremaining: 170ms\n",
      "68:\tlearn: 0.2146416\ttotal: 367ms\tremaining: 165ms\n",
      "69:\tlearn: 0.2115505\ttotal: 372ms\tremaining: 160ms\n",
      "70:\tlearn: 0.2085127\ttotal: 377ms\tremaining: 154ms\n",
      "71:\tlearn: 0.2058423\ttotal: 381ms\tremaining: 148ms\n",
      "72:\tlearn: 0.2048112\ttotal: 385ms\tremaining: 142ms\n",
      "73:\tlearn: 0.2028277\ttotal: 389ms\tremaining: 137ms\n",
      "74:\tlearn: 0.2015966\ttotal: 393ms\tremaining: 131ms\n",
      "75:\tlearn: 0.1998845\ttotal: 398ms\tremaining: 126ms\n",
      "76:\tlearn: 0.1980748\ttotal: 402ms\tremaining: 120ms\n",
      "77:\tlearn: 0.1955855\ttotal: 406ms\tremaining: 115ms\n",
      "78:\tlearn: 0.1929684\ttotal: 410ms\tremaining: 109ms\n",
      "79:\tlearn: 0.1902719\ttotal: 414ms\tremaining: 104ms\n",
      "80:\tlearn: 0.1889107\ttotal: 419ms\tremaining: 98.2ms\n",
      "81:\tlearn: 0.1872692\ttotal: 423ms\tremaining: 92.9ms\n",
      "82:\tlearn: 0.1854862\ttotal: 428ms\tremaining: 87.6ms\n",
      "83:\tlearn: 0.1842074\ttotal: 432ms\tremaining: 82.3ms\n",
      "84:\tlearn: 0.1831682\ttotal: 437ms\tremaining: 77ms\n",
      "85:\tlearn: 0.1818772\ttotal: 441ms\tremaining: 71.7ms\n",
      "86:\tlearn: 0.1811647\ttotal: 445ms\tremaining: 66.4ms\n",
      "87:\tlearn: 0.1796853\ttotal: 449ms\tremaining: 61.2ms\n",
      "88:\tlearn: 0.1783278\ttotal: 453ms\tremaining: 56ms\n",
      "89:\tlearn: 0.1758321\ttotal: 459ms\tremaining: 50.9ms\n",
      "90:\tlearn: 0.1736829\ttotal: 463ms\tremaining: 45.8ms\n",
      "91:\tlearn: 0.1719593\ttotal: 468ms\tremaining: 40.7ms\n",
      "92:\tlearn: 0.1708637\ttotal: 472ms\tremaining: 35.6ms\n",
      "93:\tlearn: 0.1686514\ttotal: 477ms\tremaining: 30.4ms\n",
      "94:\tlearn: 0.1675526\ttotal: 481ms\tremaining: 25.3ms\n",
      "95:\tlearn: 0.1667840\ttotal: 485ms\tremaining: 20.2ms\n",
      "96:\tlearn: 0.1651088\ttotal: 489ms\tremaining: 15.1ms\n",
      "97:\tlearn: 0.1637768\ttotal: 493ms\tremaining: 10.1ms\n",
      "98:\tlearn: 0.1621179\ttotal: 498ms\tremaining: 5.03ms\n",
      "99:\tlearn: 0.1606866\ttotal: 502ms\tremaining: 0us\n"
     ]
    },
    {
     "name": "stderr",
     "output_type": "stream",
     "text": [
      "/opt/conda/lib/python3.10/site-packages/_distutils_hack/__init__.py:18: UserWarning: Distutils was imported before Setuptools, but importing Setuptools also replaces the `distutils` module in `sys.modules`. This may lead to undesirable behaviors or errors. To avoid these issues, avoid using distutils directly, ensure that setuptools is installed in the traditional way (e.g. not an editable install), and/or make sure that setuptools is always imported before distutils.\n",
      "  warnings.warn(\n",
      "/opt/conda/lib/python3.10/site-packages/_distutils_hack/__init__.py:33: UserWarning: Setuptools is replacing distutils.\n",
      "  warnings.warn(\"Setuptools is replacing distutils.\")\n"
     ]
    }
   ],
   "source": [
    "mlflow.sklearn.autolog(disable=True)\n",
    "\n",
    "for i in range(len(list(models))):\n",
    "    model=list(models.values())[i]\n",
    "    model_name=list(models.keys())[i]\n",
    "    \n",
    "    with mlflow.start_run(run_name=str(model_name)):\n",
    "        mlflow.set_tag(\"model_name\", str(model_name))\n",
    "        \n",
    "        model.fit(X_train,y_train)\n",
    "    \n",
    "        y_train_pred=model.predict(X_train)\n",
    "        y_test_pred=model.predict(X_test)\n",
    "        \n",
    "        \n",
    "        #training   performance\n",
    "        (trn_acc,trn_f1,trn_precission,trn_recall)=classification_performace_matric(y_train,y_train_pred,'weighted')\n",
    "        \n",
    "        #testing   performance\n",
    "        (tst_acc,tst_f1,tst_precission,tst_recall)=classification_performace_matric(y_test,y_test_pred,'weighted')\n",
    "        \n",
    "        \n",
    "        \n",
    "        #train performance log\n",
    "        \n",
    "        mlflow.log_metric(\"Train Accuracy\", trn_acc)\n",
    "        mlflow.log_metric(\"Train F1 Score\",trn_f1)\n",
    "        mlflow.log_metric(\"Train Precision\",trn_precission)\n",
    "        mlflow.log_metric(\"Train Recall\",trn_recall)\n",
    "        \n",
    "        # test performance log\n",
    "        \n",
    "        mlflow.log_metric(\"Test Accuracy\", tst_acc)\n",
    "        mlflow.log_metric(\"Test F1 Score\",tst_f1)\n",
    "        mlflow.log_metric(\"Test Precision\",tst_precission)\n",
    "        mlflow.log_metric(\"Test Recall\",tst_recall)\n",
    "        \n",
    "        #Model log\n",
    "        mlflow.sklearn.log_model(model, str(model_name)+\"_model\")"
   ]
  },
  {
   "cell_type": "markdown",
   "id": "92037596",
   "metadata": {
    "papermill": {
     "duration": 0.040886,
     "end_time": "2024-05-28T11:57:54.473365",
     "exception": false,
     "start_time": "2024-05-28T11:57:54.432479",
     "status": "completed"
    },
    "tags": []
   },
   "source": [
    "# Result"
   ]
  },
  {
   "attachments": {
    "b047a9de-9dc0-47ac-8365-7ec33f67d322.png": {
     "image/png": "[encoded data removed]"
    }
   },
   "cell_type": "markdown",
   "id": "b7604198",
   "metadata": {
    "papermill": {
     "duration": 0.042633,
     "end_time": "2024-05-28T11:57:54.557976",
     "exception": false,
     "start_time": "2024-05-28T11:57:54.515343",
     "status": "completed"
    },
    "tags": []
   },
   "source": [
    "[![image.png](attachment:b047a9de-9dc0-47ac-8365-7ec33f67d322.png)](https://dagshub.com/SunilKumar-ugra/MobilePriceClassification.mlflow/#/experiments/0?viewStateShareKey=f929573f3bf33869cb47d74c838afd8d0ff0e29f39611ab32491f4fe705ed4ca)"
   ]
  }
 ],
 "metadata": {
  "kaggle": {
   "accelerator": "none",
   "dataSources": [
    {
     "datasetId": 11167,
     "sourceId": 15520,
     "sourceType": "datasetVersion"
    }
   ],
   "dockerImageVersionId": 30698,
   "isGpuEnabled": false,
   "isInternetEnabled": true,
   "language": "python",
   "sourceType": "notebook"
  },
  "kernelspec": {
   "display_name": "Python 3",
   "language": "python",
   "name": "python3"
  },
  "language_info": {
   "codemirror_mode": {
    "name": "ipython",
    "version": 3
   },
   "file_extension": ".py",
   "mimetype": "text/x-python",
   "name": "python",
   "nbconvert_exporter": "python",
   "pygments_lexer": "ipython3",
   "version": "3.10.13"
  },
  "papermill": {
   "default_parameters": {},
   "duration": 169.796678,
   "end_time": "2024-05-28T11:57:55.723878",
   "environment_variables": {},
   "exception": null,
   "input_path": "__notebook__.ipynb",
   "output_path": "__notebook__.ipynb",
   "parameters": {},
   "start_time": "2024-05-28T11:55:05.927200",
   "version": "2.5.0"
  },
  "widgets": {
   "application/vnd.jupyter.widget-state+json": {
    "state": {
     "2b7534bd750841f89eb6b130b6b41161": {
      "model_module": "@jupyter-widgets/output",
      "model_module_version": "1.0.0",
      "model_name": "OutputModel",
      "state": {
       "_dom_classes": [],
       "_model_module": "@jupyter-widgets/output",
       "_model_module_version": "1.0.0",
       "_model_name": "OutputModel",
       "_view_count": null,
       "_view_module": "@jupyter-widgets/output",
       "_view_module_version": "1.0.0",
       "_view_name": "OutputView",
       "layout": "IPY_MODEL_e9ffc751d81341a0a9577b116e85cb3e",
       "msg_id": "",
       "outputs": [
        {
         "data": {
          "text/html": "<pre style=\"white-space:pre;overflow-x:auto;line-height:normal;font-family:Menlo,'DejaVu Sans Mono',consolas,'Courier New',monospace\"><span style=\"color: #008000; text-decoration-color: #008000\">⠴</span> Waiting for authorization\n</pre>\n",
          "text/plain": "\u001b[32m⠴\u001b[0m Waiting for authorization\n"
         },
         "metadata": {},
         "output_type": "display_data"
        }
       ]
      }
     },
     "e9ffc751d81341a0a9577b116e85cb3e": {
      "model_module": "@jupyter-widgets/base",
      "model_module_version": "1.2.0",
      "model_name": "LayoutModel",
      "state": {
       "_model_module": "@jupyter-widgets/base",
       "_model_module_version": "1.2.0",
       "_model_name": "LayoutModel",
       "_view_count": null,
       "_view_module": "@jupyter-widgets/base",
       "_view_module_version": "1.2.0",
       "_view_name": "LayoutView",
       "align_content": null,
       "align_items": null,
       "align_self": null,
       "border": null,
       "bottom": null,
       "display": null,
       "flex": null,
       "flex_flow": null,
       "grid_area": null,
       "grid_auto_columns": null,
       "grid_auto_flow": null,
       "grid_auto_rows": null,
       "grid_column": null,
       "grid_gap": null,
       "grid_row": null,
       "grid_template_areas": null,
       "grid_template_columns": null,
       "grid_template_rows": null,
       "height": null,
       "justify_content": null,
       "justify_items": null,
       "left": null,
       "margin": null,
       "max_height": null,
       "max_width": null,
       "min_height": null,
       "min_width": null,
       "object_fit": null,
       "object_position": null,
       "order": null,
       "overflow": null,
       "overflow_x": null,
       "overflow_y": null,
       "padding": null,
       "right": null,
       "top": null,
       "visibility": null,
       "width": null
      }
     }
    },
    "version_major": 2,
    "version_minor": 0
   }
  }
 },
 "nbformat": 4,
 "nbformat_minor": 5
}
